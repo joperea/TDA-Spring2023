{
 "cells": [
  {
   "cell_type": "markdown",
   "id": "26d778ca",
   "metadata": {},
   "source": [
    "# TOSCA data set"
   ]
  },
  {
   "cell_type": "markdown",
   "id": "64679a91",
   "metadata": {},
   "source": [
    "### Dependencies\n",
    "- NumPy + Scipy \n",
    "- Matplotlib + Bokeh for plotting models \n",
    "- Pymeshlab for curvature calculations"
   ]
  },
  {
   "cell_type": "markdown",
   "id": "aeb803d5",
   "metadata": {},
   "source": [
    "Function to load in TOSCA data set "
   ]
  },
  {
   "cell_type": "code",
   "execution_count": null,
   "id": "933c6543",
   "metadata": {},
   "outputs": [],
   "source": [
    "import numpy as np\n",
    "import scipy.io\n",
    "import requests\n",
    "\n",
    "def tosca():\n",
    "    import tarfile\n",
    "    from urllib.request import urlopen\n",
    "    from io import BytesIO\n",
    "    url = \"https://raw.githubusercontent.com/peekxc/tosca_signatures/main/tosca.tar.xz\"\n",
    "    tosca_file = tarfile.open(fileobj=BytesIO(urlopen(url).read()) , mode=\"r:xz\")\n",
    "    tosca_files = [name[:-4] for name in tosca_file.getnames() if name[0] != \".\"]\n",
    "    def _extract_model(model_name: str, obj_id: str = None, normalize: bool = True):\n",
    "        fn = (model_name + str(obj_id) + \".mat\") if obj_id is not None else (model_name + \".mat\")\n",
    "        m = tosca_file.extractfile(fn)\n",
    "        mat = scipy.io.loadmat(BytesIO(m.read()))\n",
    "        x = np.ravel(mat['surface']['X'][0][0]).astype(float)\n",
    "        y = np.ravel(mat['surface']['Y'][0][0]).astype(float)\n",
    "        z = np.ravel(mat['surface']['Z'][0][0]).astype(float)\n",
    "        S = np.c_[x,y,z]\n",
    "        T = mat['surface']['TRIV'][0][0] - 1 # TOSCA is 1-based \n",
    "        if normalize:\n",
    "            S -= S.mean(axis=0)\n",
    "            c = np.linalg.norm(S.min(axis=0) - S.max(axis=0))\n",
    "            S *= (1/c)\n",
    "        return S, T\n",
    "    return _extract_model, tosca_files"
   ]
  },
  {
   "cell_type": "markdown",
   "id": "849ae46d",
   "metadata": {},
   "source": [
    "`tosca()` returns 1) a function which can load models and 2) the set of available model names in the data set  "
   ]
  },
  {
   "cell_type": "code",
   "execution_count": null,
   "id": "482422da",
   "metadata": {},
   "outputs": [],
   "source": [
    "## Usage \n",
    "get_tosca_model, model_names = tosca()"
   ]
  },
  {
   "cell_type": "markdown",
   "id": "88e35ec5",
   "metadata": {},
   "source": [
    "For example, to see the mesh corresponding to `wolf1` we can use:"
   ]
  },
  {
   "cell_type": "code",
   "execution_count": null,
   "id": "0a7d09c4",
   "metadata": {},
   "outputs": [],
   "source": [
    "get_tosca_model(\"wolf1\")  \n",
    "\n",
    "# Usage:\n",
    "# get_tosca_model(\"wolf1\")  \n",
    "# or\n",
    "# get_tosca_model(\"wolf\", 1)"
   ]
  },
  {
   "cell_type": "markdown",
   "id": "30d1d5b1",
   "metadata": {},
   "source": [
    "This returns a tuple (vertex_coordinates, triangle_indices)."
   ]
  },
  {
   "cell_type": "markdown",
   "id": "3d7fd71d",
   "metadata": {},
   "source": [
    "---"
   ]
  },
  {
   "cell_type": "markdown",
   "id": "bf1556b3",
   "metadata": {},
   "source": [
    "Below is code to grab a random set of models and plot their scatter plots"
   ]
  },
  {
   "cell_type": "code",
   "execution_count": null,
   "id": "96adfec7",
   "metadata": {},
   "outputs": [],
   "source": [
    "import matplotlib.pyplot as plt\n",
    "from itertools import product\n",
    "np.random.seed(234)\n",
    "nrow, ncol = 1, 4\n",
    "zoom = 0.25\n",
    "tosca_models = np.random.choice(model_names, size=nrow*ncol, replace=False)\n",
    "\n",
    "fig, axs = plt.subplots(nrow, ncol, figsize=(80, 30), subplot_kw={'projection': '3d'})\n",
    "idx_iter = range(nrow*ncol)\n",
    "for model_name, i in zip(tosca_models, idx_iter):\n",
    "    X, T = get_tosca_model(model_name)\n",
    "    c, rng = X.mean(axis=0), max(abs(X.max(axis=0)-X.min(axis=0)))\n",
    "    axs[i].scatter(*X.T, s=18, c=X[:,0], cmap='plasma')\n",
    "    axs[i].set_xlim(c[0] - zoom*rng, c[0] + zoom*rng)\n",
    "    axs[i].set_ylim(c[1] - zoom*rng, c[1] + zoom*rng)\n",
    "    axs[i].set_zlim(c[2] - zoom*rng, c[2] + zoom*rng)\n",
    "    axs[i].axis('off')\n",
    "plt.subplots_adjust(left=0, bottom=0, right=1, top=1, wspace=0, hspace=0)  "
   ]
  },
  {
   "cell_type": "markdown",
   "id": "786abd12",
   "metadata": {},
   "source": [
    "## Euler Characteristic Curves \n",
    "\n",
    "The Euler characteristic for 2-dimensional meshes is defined as\n",
    "$$ \\chi(X) = V - E + F $$"
   ]
  },
  {
   "cell_type": "code",
   "execution_count": null,
   "id": "79b3d729",
   "metadata": {},
   "outputs": [],
   "source": [
    "from numpy.typing import ArrayLike \n",
    "from typing import Collection, Union\n",
    "\n",
    "def euler_curve(X: ArrayLike, T: ArrayLike, f: ArrayLike, bins: Union[int, Collection[float]] = 20, method: str = [\"simple\", \"top_down\", \"top_down_vec\"]) -> ArrayLike:\n",
    "    \"\"\"Calculates the euler characteristic curve.\n",
    "\n",
    "    Parameters:\n",
    "        X = (n x 3) array of vertex coordinates \n",
    "        T = (m x 3) array of triangle indices \n",
    "        f = array of vertex values to filter by \n",
    "        bins = number of bins, or a sequence of threshold values \n",
    "        method = string indicating which method to use to compute the curve. Defaults to \"simple\". \n",
    "\n",
    "    Returns: \n",
    "        array of euler values of the mesh along _bins_ \n",
    "    \"\"\"\n",
    "    assert isinstance(X, np.ndarray) and X.ndim == 2, \"Invalid point cloud given.\"\n",
    "    assert isinstance(T, np.ndarray) and T.ndim == 2 and T.shape[1] == 3, \"Invalid triangles given.\"\n",
    "    f = np.array(f)\n",
    "    assert isinstance(f, np.ndarray) and len(f) == X.shape[0], \"Invalid vertex function array given.\"\n",
    "    bins = np.linspace(min(f), max(f)+10*np.finfo(float).eps, bins) if isinstance(bins, int) else bins\n",
    "    assert isinstance(bins, Collection), f\"Invalid argument bins={bins}\"\n",
    "  \n",
    "    ## Choose the euler invariant \n",
    "    if isinstance(method, list) or method == \"simple\" or method is None:\n",
    "        ## Vectorized O(nk) approach\n",
    "        E = np.array(list(set([tuple(e) for e in T[:,[0,1]]]) | set([tuple(e) for e in T[:,[0,2]]]) | set([tuple(e) for e in T[:,[1,2]]])))\n",
    "        fe = f[E].max(axis=1)\n",
    "        ft = f[T].max(axis=1)\n",
    "        ecc = np.array([sum(f < t) - sum(fe < t) + sum(ft < t) for t in bins])\n",
    "    elif method == \"top_down\": \n",
    "        ## O(n + k) approach from \"Efficient classification using the Euler characteristic\"\n",
    "        from itertools import combinations\n",
    "        vw, ew = {}, {}\n",
    "        ft = f[T].max(axis=1)\n",
    "        for t, coface_value in zip(T, ft):\n",
    "            for e in combinations(t,2):\n",
    "                ew[e] = max(ew[e], coface_value) if e in ew else coface_value\n",
    "            for v in combinations(t,1):\n",
    "                vw[v] = max(vw[v], coface_value) if v in vw else coface_value\n",
    "        v_counts = np.cumsum(np.histogram(list(vw.values()), bins=bins)[0])\n",
    "        e_counts = np.cumsum(np.histogram(list(ew.values()), bins=bins)[0])\n",
    "        t_counts = np.cumsum(np.histogram(ft, bins=bins)[0])\n",
    "        ecc = np.append(0, (v_counts - e_counts + t_counts))\n",
    "    elif method == \"top_down_vec\": \n",
    "        ## O(n + k) approach from \"Efficient classification using the Euler characteristic\" vectorized using hirola \n",
    "        from itertools import combinations\n",
    "        from hirola import HashTable\n",
    "        ft = f[T].max(axis=1)\n",
    "        vw = np.ones(len(f))*(-np.inf)\n",
    "        np.maximum.at(vw, T[:,0], ft)\n",
    "        np.maximum.at(vw, T[:,1], ft)\n",
    "        np.maximum.at(vw, T[:,2], ft)\n",
    "        h = HashTable((3*T.shape[0])*1.25, dtype=(T.dtype, 2))\n",
    "        h.add(T[:,[0,1]])\n",
    "        h.add(T[:,[0,2]])\n",
    "        h.add(T[:,[1,2]])\n",
    "        ew = np.ones(h.length)*(-np.inf)\n",
    "        np.maximum.at(ew, h[T[:,[0,1]]], ft)\n",
    "        np.maximum.at(ew, h[T[:,[0,2]]], ft)\n",
    "        np.maximum.at(ew, h[T[:,[1,2]]], ft)\n",
    "        v_counts = np.cumsum(np.histogram(vw, bins=bins)[0])\n",
    "        e_counts = np.cumsum(np.histogram(ew, bins=bins)[0])\n",
    "        t_counts = np.cumsum(np.histogram(ft, bins=bins)[0])\n",
    "        ecc = np.append(0, (v_counts - e_counts + t_counts))\n",
    "    else: \n",
    "        raise ValueError(f\"Unknown method {method}\")\n",
    "    return ecc"
   ]
  },
  {
   "cell_type": "markdown",
   "id": "eab1dde3",
   "metadata": {},
   "source": [
    "Small amount of preprocessing to group up model ids by class name and give them default colors"
   ]
  },
  {
   "cell_type": "code",
   "execution_count": null,
   "id": "ddfdc20b",
   "metadata": {},
   "outputs": [],
   "source": [
    "import re \n",
    "cls_rgx = re.compile(r\"^([a-zA-Z]+)(\\d+)\") ## class regex \n",
    "tosca_classes = ['dog', 'cat', 'michael', 'centaur', 'victoria', 'horse', 'david', 'gorilla', 'wolf'] \n",
    "tosca_colors = ['red', 'blue', 'black', 'orange', 'yellow', 'green', 'purple', 'pink', 'cyan']\n",
    "tosca_class_ids = { cls_nm : [] for cls_nm in  tosca_classes}\n",
    "for fn in model_names:\n",
    "    cls_nm, model_id = cls_rgx.split(fn)[1:3] \n",
    "    tosca_class_ids[cls_nm].append(int(model_id))\n",
    "\n",
    "import pprint\n",
    "pprint.PrettyPrinter(indent=2, compact=True).pprint(tosca_class_ids)"
   ]
  },
  {
   "cell_type": "code",
   "execution_count": null,
   "id": "ef827d7a",
   "metadata": {},
   "outputs": [],
   "source": [
    "from bokeh.plotting import figure, show\n",
    "from bokeh.io import output_notebook\n",
    "output_notebook()\n",
    "# tosca_subset = np.random.choice(tosca_classes, size = 4, replace=False)\n",
    "tosca_subset = [\"dog\", \"cat\", \"horse\", \"centaur\", \"victoria\"]\n",
    "bins = 20\n",
    "INDEX = np.arange(bins)\n",
    "\n",
    "p = figure(width=450, height=250, x_axis_label=\"Height index\", y_axis_label=\"Euler Characteristic\")\n",
    "for tc in tosca_subset: \n",
    "    for model_id in tosca_class_ids[tc]:\n",
    "        X, T = get_tosca_model(tc, model_id)\n",
    "        f = X @ np.array([0,0,1])\n",
    "        ecc = euler_curve(X, T, f, method=\"top_down_vec\")\n",
    "        p.line(INDEX, ecc, color=tosca_colors[tosca_classes.index(tc)], legend_label=tc)\n",
    "p.legend.location = \"bottom_left\"\n",
    "show(p)\n"
   ]
  },
  {
   "cell_type": "markdown",
   "id": "f827b09c",
   "metadata": {},
   "source": [
    "## Using geometric information / curvature"
   ]
  },
  {
   "cell_type": "code",
   "execution_count": null,
   "id": "1543d50c",
   "metadata": {},
   "outputs": [],
   "source": [
    "import pymeshlab\n",
    "def curvature(\n",
    "    X: ArrayLike, \n",
    "    T: ArrayLike, \n",
    "    value=[\"mean\", \"gaussian\", \"min\", \"max\", \"shape_index\", \"curvedness\"], \n",
    "    fit=['Quadric Fitting', 'Normal Cycles', 'Taubin approximation']\n",
    ") -> ArrayLike:\n",
    "    \"\"\"uses pymeshlab to compute the principal directions of curvature with different algorithms. \n",
    "  \n",
    "    Parameters: \n",
    "        X = (n x 3) array of vertex coordinates \n",
    "        T = (m x 3) array of triangle indices \n",
    "        value = type of curvature to compute. \n",
    "        fit = algorithm to fit the curvature by. \n",
    "\n",
    "    Returns: \n",
    "        array of curvature values at the mesh vertices.\n",
    "\n",
    "    Note: This function can fail if the mesh has non-unique vertices\n",
    "\n",
    "    See: https://pymeshlab.readthedocs.io/en/2021.10/filter_list.html#compute_curvature_principal_directions for more details. \n",
    "    \"\"\" \n",
    "    fit_method = {'quadric fitting' : 3, 'normal cycles' : 2, 'taubin approximation' : 0 }\n",
    "    value_type = {'mean': 0, 'gauss': 1, 'min': 2, 'max': 3, 'shape_index': 4, 'curvedness': 5 }\n",
    "    value = 'shape_index' if isinstance(value, list) else str(value).tolower()\n",
    "    fit = 'quadric fitting' if isinstance(fit, list) else str(fit).tolower()\n",
    "    assert isinstance(fit, str) and fit in fit_method.keys(), f\"Invalid fit method '{fit}' given.\"\n",
    "    assert isinstance(value, str) and value in value_type.keys(), f\"Invalid curvature type '{value}' given.\"\n",
    "    ms = pymeshlab.MeshSet()\n",
    "    ms.add_mesh(pymeshlab.Mesh(X, T))\n",
    "    ms.compute_curvature_principal_directions_per_vertex(method=3, curvcolormethod=4)\n",
    "    mesh = ms.mesh(0)\n",
    "    return mesh.vertex_scalar_array()"
   ]
  },
  {
   "cell_type": "code",
   "execution_count": null,
   "id": "1e4ec924",
   "metadata": {},
   "outputs": [],
   "source": [
    "np.random.seed(234)\n",
    "nrow, ncol = 1, 4\n",
    "zoom = 0.25\n",
    "tosca_models = np.random.choice(model_names, size=nrow*ncol, replace=False)\n",
    "\n",
    "fig, axs = plt.subplots(nrow, ncol, figsize=(80, 30), subplot_kw={'projection': '3d'})\n",
    "idx_iter = range(nrow*ncol)\n",
    "for model_name, i in zip(tosca_models, idx_iter):\n",
    "    X, T = get_tosca_model(model_name)\n",
    "    c, rng = X.mean(axis=0), max(abs(X.max(axis=0)-X.min(axis=0)))\n",
    "    f = curvature(X, T)\n",
    "    axs[i].scatter(*X.T, s=80, c=f, cmap='plasma')\n",
    "    axs[i].set_xlim(c[0] - zoom*rng, c[0] + zoom*rng)\n",
    "    axs[i].set_ylim(c[1] - zoom*rng, c[1] + zoom*rng)\n",
    "    axs[i].set_zlim(c[2] - zoom*rng, c[2] + zoom*rng)\n",
    "    axs[i].axis('off')\n",
    "plt.subplots_adjust(left=0, bottom=0, right=1, top=1, wspace=0, hspace=0) \n"
   ]
  },
  {
   "cell_type": "code",
   "execution_count": null,
   "id": "8ca94f28",
   "metadata": {},
   "outputs": [],
   "source": [
    "p = figure(width=450, height=250, x_axis_label=\"Sublevel sets of Shape Index\", y_axis_label=\"Euler Characteristic\")\n",
    "for tc in tosca_subset:\n",
    "    for model_id in tosca_class_ids[tc]:\n",
    "        X, T = get_tosca_model(tc, model_id)\n",
    "        f = curvature(X, T)\n",
    "        ecc = euler_curve(X, T, f, method=\"top_down_vec\")\n",
    "        p.line(INDEX, ecc, color=tosca_colors[tosca_classes.index(tc)], legend_label=tc)\n",
    "p.legend.location = \"bottom_left\"\n",
    "show(p)"
   ]
  }
 ],
 "metadata": {
  "kernelspec": {
   "display_name": "Python 3 (ipykernel)",
   "language": "python",
   "name": "python3"
  },
  "language_info": {
   "codemirror_mode": {
    "name": "ipython",
    "version": 3
   },
   "file_extension": ".py",
   "mimetype": "text/x-python",
   "name": "python",
   "nbconvert_exporter": "python",
   "pygments_lexer": "ipython3",
   "version": "3.9.16"
  }
 },
 "nbformat": 4,
 "nbformat_minor": 5
}
