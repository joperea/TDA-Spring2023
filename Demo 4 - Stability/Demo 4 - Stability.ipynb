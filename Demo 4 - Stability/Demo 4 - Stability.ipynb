{
 "cells": [
  {
   "cell_type": "markdown",
   "id": "74274cea",
   "metadata": {},
   "source": [
    "## Demo 4 - Consequences of the Stability Theorem"
   ]
  },
  {
   "cell_type": "code",
   "execution_count": null,
   "id": "97d72b7c",
   "metadata": {},
   "outputs": [],
   "source": [
    "import time\n",
    "import numpy as np\n",
    "\n",
    "#topological data analysis\n",
    "from ripser import ripser\n",
    "from persim import plot_diagrams\n",
    "\n",
    "#plotting and visualization\n",
    "import plotly.graph_objects as go\n",
    "from plotly.subplots import make_subplots\n",
    "from matplotlib.patches import Circle\n",
    "\n",
    "from scipy.spatial import distance\n",
    "\n",
    "import matplotlib.pyplot as plt\n",
    "%matplotlib inline"
   ]
  },
  {
   "cell_type": "code",
   "execution_count": null,
   "id": "53dcf43c",
   "metadata": {},
   "outputs": [],
   "source": [
    " \n",
    "def maxmin(dist_matrix, n):\n",
    "    '''\n",
    "    Given a distance matrix retunrs a maxmin subsampling and the covering radious \n",
    "    corresponding to the subsampled set.\n",
    "    \n",
    "    :param dist_matrix: Distance matrix\n",
    "    :param n: Size of subsample set.\n",
    "    :returns L: List of indices corresponding to the subsample set.\n",
    "    :return cr: Covering radious for the subsample set.\n",
    "    '''\n",
    "    L = [np.random.randint(0,len(dist_matrix))]\n",
    "    \n",
    "    dist_to_L = dist_matrix[ L[-1] ,:]\n",
    "    \n",
    "    for i in range(n-1):\n",
    "        ind = np.argmax( dist_to_L )\n",
    "        L.append(ind)\n",
    "        \n",
    "        dist_to_L = np.minimum(dist_to_L, dist_matrix[L[-1], :])\n",
    "        \n",
    "    cr = np.max(dist_to_L)\n",
    "\n",
    "    return L, cr\n",
    "\n",
    "def uniform_sampling(dist_matrix, n):\n",
    "    '''\n",
    "    Given a distance matrix retunrs an subsamplig that preserves the distribution of the original data set \n",
    "    and the covering radious corresponding to the subsampled set.\n",
    "    \n",
    "    :param dist_matrix: Distance matrix\n",
    "    :param n: Size of subsample set.\n",
    "    :returns L: List of indices corresponding to the subsample set.\n",
    "    :return cr: Covering radious for the subsample set.\n",
    "    '''\n",
    "    num_points = dist_matrix.shape[0]\n",
    "    \n",
    "    L = np.random.choice(num_points, n)\n",
    "    \n",
    "    dist_to_L = np.min(dist_matrix[L,:], axis=0)\n",
    "    \n",
    "    return L, np.max(dist_to_L)"
   ]
  },
  {
   "cell_type": "markdown",
   "id": "829e952c",
   "metadata": {},
   "source": [
    "### Persistence is stable with respect to Hausdorff Noise"
   ]
  },
  {
   "cell_type": "code",
   "execution_count": null,
   "id": "703ec463",
   "metadata": {},
   "outputs": [],
   "source": [
    "np.random.seed(2)\n",
    "\n",
    "# Generate angles uniformly between 0 and 2pi\n",
    "n_data = 400\n",
    "theta = np.random.uniform(0, 2*np.pi, n_data)\n",
    "\n",
    "# Generate radii with Gaussian noise centered at 1 and variance sigma\n",
    "sigma = 0.1\n",
    "r = np.random.normal(1, sigma , n_data)\n",
    "X = np.array([ np.cos(theta) , np.sin(theta)]) \n",
    "Y = r*X\n",
    "X = X.T\n",
    "Y = Y.T\n",
    "\n",
    "plt.figure(figsize = (5,5)) \n",
    "plt.scatter(X[:,0], X[:,1], s = 2 , label = 'data');\n",
    "plt.scatter(Y[:,0], Y[:,1], s = 2, c='black' , label = 'noisy sample');\n",
    "plt.legend(loc = 'lower right')\n",
    "plt.axis('square');\n",
    "\n"
   ]
  },
  {
   "cell_type": "code",
   "execution_count": null,
   "id": "82b188cf",
   "metadata": {},
   "outputs": [],
   "source": [
    "# Hausdorff distance\n",
    "\n",
    "d_XY =  np.max(np.min(distance.cdist(X,Y), axis = 0))\n",
    "d_YX =  np.max(np.min(distance.cdist(X,Y), axis = 1))\n",
    "\n",
    "print( 'd_H(X,Y) = ',np.max( [d_XY, d_YX])  )"
   ]
  },
  {
   "cell_type": "code",
   "execution_count": null,
   "id": "a08df552",
   "metadata": {},
   "outputs": [],
   "source": [
    "q = 2\n",
    " \n",
    "PH_X = ripser(X, coeff=q )\n",
    "PH_Y = ripser(Y, coeff=q )\n",
    "\n",
    "plt.figure(figsize = (8,3)) \n",
    "plt.subplot(1,2,1)\n",
    "plot_diagrams(PH_X['dgms'])\n",
    "x_left, x_right = plt.xlim()\n",
    "y_left, y_right = plt.ylim()\n",
    "plt.title('$PH_*(\\mathcal{R}(X); \\mathbb{Z}_{' + str(q) +'})$');\n",
    "\n",
    "plt.subplot(1,2,2)\n",
    "plot_diagrams(PH_Y['dgms'],  xy_range  = [x_left, x_right, y_left, y_right] )\n",
    "plt.title('$PH_*(\\mathcal{R}(Y); \\mathbb{Z}_{' + str(q) +'})$');\n",
    "\n",
    "plt.show()\n",
    " "
   ]
  },
  {
   "cell_type": "markdown",
   "id": "346e41ff",
   "metadata": {},
   "source": [
    "## Sampling is a good idea"
   ]
  },
  {
   "cell_type": "markdown",
   "id": "59524479",
   "metadata": {},
   "source": [
    "Generate data around the unit circle"
   ]
  },
  {
   "cell_type": "code",
   "execution_count": null,
   "id": "4701f1d4",
   "metadata": {},
   "outputs": [],
   "source": [
    "np.random.seed(2)\n",
    "\n",
    "# Generate angles uniformly between 0 and 2pi\n",
    "n_data = 800\n",
    "theta = np.random.uniform(0, 2*np.pi, n_data)\n",
    "\n",
    "# Generate radii with Gaussian noise centered at 1 and variance sigma\n",
    "sigma = 0.1\n",
    "r = np.random.normal(1, sigma , n_data)\n",
    "\n",
    "X = r*np.array([ np.cos(theta) , np.sin(theta)]) \n",
    "X = X.T\n",
    "\n",
    "# Plot data set X\n",
    "plt.figure(figsize = (4,4))\n",
    "plt.scatter(X[:,0], X[:,1], s = 2 );\n",
    "plt.axis('square');"
   ]
  },
  {
   "cell_type": "markdown",
   "id": "31359853",
   "metadata": {},
   "source": [
    "Persistent homology computation"
   ]
  },
  {
   "cell_type": "code",
   "execution_count": null,
   "id": "8610a0c7",
   "metadata": {},
   "outputs": [],
   "source": [
    "q = 2\n",
    "\n",
    "start_time = time.time()\n",
    "PH_X = ripser(X, coeff=q )\n",
    "X_time = time.time() - start_time\n",
    "print(\"--- %s seconds ---\" % (X_time))"
   ]
  },
  {
   "cell_type": "code",
   "execution_count": null,
   "id": "729d9d2e",
   "metadata": {},
   "outputs": [],
   "source": [
    "# Plot\n",
    "plt.figure(figsize=(3,3))\n",
    "plot_diagrams(PH_X['dgms'])\n",
    "plt.title('$PH_*(\\mathcal{R}(X); \\mathbb{Z}_{' + str(q) +'})$');"
   ]
  },
  {
   "cell_type": "markdown",
   "id": "e8b03c24",
   "metadata": {},
   "source": [
    "Uniform sample"
   ]
  },
  {
   "cell_type": "code",
   "execution_count": null,
   "id": "bf740fc7",
   "metadata": {},
   "outputs": [],
   "source": [
    "# Compute the distance matrix for the data set X using auclidean distance.\n",
    "dm_X = distance.cdist(X,X)\n",
    "\n",
    "# Subsample the data using uniform sampling\n",
    "np.random.seed(2) # Comment out to get different samples\n",
    "n_landmarks = 40\n",
    "ind_Y, cover_r = uniform_sampling(dm_X, n_landmarks)\n",
    "Y = X[ind_Y]\n",
    "\n",
    "# scatter plot the landmark subset\n",
    "fig, ax = plt.subplots(figsize = (4,4))\n",
    "plt.scatter(X.T[0], X.T[1], s = 2)\n",
    "plt.scatter(Y.T[0], Y.T[1], s = 5, c='red')\n",
    "\n",
    "# Plot balls or radious defined by the covering radious of the landmark set\n",
    "for i in range(n_landmarks):\n",
    "    cir = Circle((Y[i,0], Y[i,1]), cover_r, color=(0,0,0,0.05))\n",
    "    ax.add_patch(cir)\n",
    "ax.set_ylim(-1-2*cover_r,1+2*cover_r);\n",
    "ax.set_xlim(-1-2*cover_r,1+2*cover_r);\n",
    "\n",
    "r_Y = cover_r\n",
    "print('d_H(X,Y) =',  r_Y)"
   ]
  },
  {
   "cell_type": "code",
   "execution_count": null,
   "id": "e1d3c537",
   "metadata": {},
   "outputs": [],
   "source": [
    "q = 2\n",
    "\n",
    "start_time = time.time()\n",
    "PH_Y = ripser(Y, coeff=q )\n",
    "Y_time = time.time() - start_time\n",
    "print(\"--- X_time = %s seconds ---\" % (X_time))\n",
    "print(\"--- Y_time = %s seconds ---\" % (Y_time))\n"
   ]
  },
  {
   "cell_type": "code",
   "execution_count": null,
   "id": "d83cba06",
   "metadata": {},
   "outputs": [],
   "source": [
    "plt.figure(figsize = (8,3)) \n",
    "plt.subplot(1,2,2)\n",
    "plot_diagrams(PH_Y['dgms'])\n",
    "plt.title('$PH_*(\\mathcal{R}(Y); \\mathbb{Z}_{' + str(q) +'})$');\n",
    "x_left, x_right = plt.xlim()\n",
    "y_left, y_right = plt.ylim()\n",
    "\n",
    "plt.subplot(1,2,1)\n",
    "plot_diagrams(PH_X['dgms'], xy_range  = [x_left, x_right, y_left, y_right] )\n",
    "plt.title('$PH_*(\\mathcal{R}(X); \\mathbb{Z}_{' + str(q) +'})$');\n",
    "plt.show()"
   ]
  },
  {
   "cell_type": "code",
   "execution_count": null,
   "id": "7732dce9",
   "metadata": {},
   "outputs": [],
   "source": [
    "# Subsample the data using MaxMin sampling\n",
    "np.random.seed(2) # Comment out to get different samples\n",
    "ind_M, cover_r = maxmin(dm_X, n_landmarks)\n",
    "M = X[ind_M]\n",
    "\n",
    "# scatter plot the landmark subset\n",
    "fig, ax = plt.subplots(figsize = (4,4))\n",
    "plt.scatter(X.T[0], X.T[1], s = 2)\n",
    "plt.scatter(M.T[0], M.T[1], s = 5, c='red')\n",
    "\n",
    "# Plot balls or radious defined by the covering radious of the landmark set\n",
    "for i in range(n_landmarks):\n",
    "    cir = Circle((M[i,0], M[i,1]), cover_r, color=(0,0,0,0.05))\n",
    "    ax.add_patch(cir)\n",
    "ax.set_ylim(-1-2*cover_r,1+2*cover_r);\n",
    "ax.set_xlim(-1-2*cover_r,1+2*cover_r);\n",
    "\n",
    "print('d_H(X,Y) =', r_Y)\n",
    "print('d_H(X,M) =',  cover_r)\n"
   ]
  },
  {
   "cell_type": "code",
   "execution_count": null,
   "id": "6a2d25e4",
   "metadata": {},
   "outputs": [],
   "source": [
    "q = 2\n",
    "start_time = time.time()\n",
    "PH_M= ripser(M, coeff=q )\n",
    "print(\"--- %s seconds ---\" % (time.time() - start_time))\n"
   ]
  },
  {
   "cell_type": "code",
   "execution_count": null,
   "id": "2d7da6fa",
   "metadata": {},
   "outputs": [],
   "source": [
    "plt.figure(figsize = (12,3)) \n",
    "plt.subplot(1,3,2)\n",
    "plot_diagrams(PH_Y['dgms'])\n",
    "plt.title('$PH_*(\\mathcal{R}(Y); \\mathbb{Z}_{' + str(q) +'})$');\n",
    "x_left, x_right = plt.xlim()\n",
    "y_left, y_right = plt.ylim()\n",
    "\n",
    "plt.subplot(1,3,1)\n",
    "plot_diagrams(PH_X['dgms'], xy_range  = [x_left, x_right, y_left, y_right] )\n",
    "plt.title('$PH_*(\\mathcal{R}(X); \\mathbb{Z}_{' + str(q) +'})$');\n",
    "\n",
    "plt.subplot(1,3,3)\n",
    "plot_diagrams(PH_M['dgms'], xy_range  = [x_left, x_right, y_left, y_right] )\n",
    "plt.title('$PH_*(\\mathcal{R}(M); \\mathbb{Z}_{' + str(q) +'})$');\n",
    "plt.show()"
   ]
  },
  {
   "cell_type": "markdown",
   "id": "0ac77f89",
   "metadata": {},
   "source": [
    "---\n",
    "\n",
    "## Experiment: \n",
    "\n",
    "The goal of this experiment is to explore the effect that data size has on the computation time of persistent homology.\n",
    "\n",
    "1. Select subsamples of different sizes, say from 5 to 500 in increments of 5.\n",
    "2. Compute persistent homology for each subsample set generated, and compute the time ripser takes to compute persistent homology in each case.  \n",
    "3. Plot sample size vs time and explain the effect the sample size has on the computation time."
   ]
  },
  {
   "cell_type": "code",
   "execution_count": null,
   "id": "88a28827",
   "metadata": {},
   "outputs": [],
   "source": [
    "q = 2\n",
    "\n",
    "ripser_time =[]\n",
    "\n",
    "for i in range(5,505,5):\n",
    "    ind_M, cover_r = maxmin(dm_X, i)\n",
    "    M = X[ind_M]\n",
    "    \n",
    "    t0 = time.time()\n",
    "    per_homology = ripser(M, coeff=q)\n",
    "    t1 = time.time()\n",
    "    \n",
    "    ripser_time.append(t1-t0)\n",
    "\n",
    "\n",
    "plt.plot(ripser_time)\n",
    "\n",
    "plt.xticks(np.arange(0,101,20), np.arange(5,506,100), color='k', size=12)\n",
    "plt.xlabel('Subsample size')\n",
    "\n",
    "plt.ylabel('Time (s)')\n",
    "\n",
    "plt.show()"
   ]
  },
  {
   "cell_type": "markdown",
   "id": "4ab3bca4",
   "metadata": {},
   "source": [
    "### Hausdorff vs Non-Hausdorff Noise"
   ]
  },
  {
   "cell_type": "code",
   "execution_count": null,
   "id": "6597441f",
   "metadata": {},
   "outputs": [],
   "source": [
    "n_noise = 20\n",
    "np.random.seed(2)\n",
    "theta = np.random.uniform(0, 2*np.pi, n_noise)\n",
    "\n",
    "# Generate radii with Gaussian noise centered at 1 and variance sigma\n",
    "r = np.random.uniform(-1, 1 , n_noise)\n",
    "\n",
    "D = r*np.array([ np.cos(theta) , np.sin(theta)]) \n",
    "D = D.T\n",
    "\n",
    "Y = np.vstack((X,D))\n",
    "\n",
    "# Plot data set X\n",
    "\n",
    "plt.figure(figsize = (8,3)) \n",
    "plt.subplot(1,2,1)\n",
    "plt.scatter(X[:,0], X[:,1], s = 2 );\n",
    "plt.axis('square');\n",
    "plt.subplot(1,2,2)\n",
    "plt.scatter(Y[:,0], Y[:,1], s = 2 );\n",
    "plt.axis('square');\n"
   ]
  },
  {
   "cell_type": "code",
   "execution_count": null,
   "id": "8517a8e7",
   "metadata": {},
   "outputs": [],
   "source": [
    "# Hausdorff distance\n",
    "\n",
    "d_XY =  np.max(np.min(distance.cdist(X,Y), axis = 0))\n",
    "d_YX =  np.max(np.min(distance.cdist(X,Y), axis = 1))\n",
    "\n",
    "print( 'd_H(X,Y) = ',np.max( [d_XY, d_YX])  )"
   ]
  },
  {
   "cell_type": "code",
   "execution_count": null,
   "id": "32cc5fe1",
   "metadata": {},
   "outputs": [],
   "source": [
    "#Persistence computation\n",
    "PH_Y = ripser(Y, coeff=q )\n",
    "\n",
    "plt.figure(figsize = (8,3)) \n",
    "plt.subplot(1,2,1)\n",
    "plot_diagrams(PH_X['dgms'])\n",
    "x_left, x_right = plt.xlim()\n",
    "y_left, y_right = plt.ylim()\n",
    "plt.title('$PH_*(\\mathcal{R}(X); \\mathbb{Z}_{' + str(q) +'})$');\n",
    "\n",
    "plt.subplot(1,2,2)\n",
    "plot_diagrams(PH_Y['dgms'],  xy_range  = [x_left, x_right, y_left, y_right] )\n",
    "plt.title('$PH_*(\\mathcal{R}(Y); \\mathbb{Z}_{' + str(q) +'})$');\n",
    "\n",
    "plt.show()\n",
    " "
   ]
  }
 ],
 "metadata": {
  "kernelspec": {
   "display_name": "Python 3 (ipykernel)",
   "language": "python",
   "name": "python3"
  },
  "language_info": {
   "codemirror_mode": {
    "name": "ipython",
    "version": 3
   },
   "file_extension": ".py",
   "mimetype": "text/x-python",
   "name": "python",
   "nbconvert_exporter": "python",
   "pygments_lexer": "ipython3",
   "version": "3.9.12"
  }
 },
 "nbformat": 4,
 "nbformat_minor": 5
}
