{
 "cells": [
  {
   "cell_type": "markdown",
   "metadata": {},
   "source": [
    "### Basic imports and plotting functionality"
   ]
  },
  {
   "cell_type": "code",
   "execution_count": null,
   "metadata": {},
   "outputs": [],
   "source": [
    "import numpy as np\n",
    "import pandas as pd\n",
    "from sklearn import datasets\n",
    "\n",
    "from matplotlib import pyplot as plt\n",
    "import plotly.express as px\n",
    "from plotly.offline import plot\n",
    "\n",
    "import requests\n",
    "from urllib.request import urlopen\n",
    "from io import BytesIO\n",
    "from io import StringIO\n",
    "\n",
    "from scipy.cluster.hierarchy import dendrogram, linkage, fcluster\n",
    "from sklearn.cluster import KMeans, DBSCAN\n",
    "import persistable\n",
    "\n",
    "# this library gives an easy way to create color palettes with\n",
    "# very different colors. This is useful for coloring clusterings.\n",
    "import glasbey\n",
    "\n",
    "# a simple wrapper for glasbey\n",
    "def cluster_colors(n_classes):\n",
    "    return np.array(glasbey.create_palette(palette_size=n_classes))\n",
    "\n",
    "# a function that will plot a 2D dataset and, optionally, color it according\n",
    "# to a user given clustering. If no clustering is given, all data points are\n",
    "# colored with the same color.\n",
    "# Moreover, the cluster label is allowed to be -1. In that case the point is\n",
    "# considered \"unclustered\" and is colored in gray\n",
    "def plot_clustering(X, clustering = None, limits=None, sizes=[4, 2], noise_points=True, axis=True):\n",
    "    if clustering is None:\n",
    "        clustering = np.ones(X.shape[0], dtype=int)\n",
    "    X_clustered = X[clustering != -1]\n",
    "    X_unclustered = X[clustering == -1]\n",
    "    clustering_clustered = clustering[clustering != -1]\n",
    "    if noise_points:\n",
    "        plt.scatter(\n",
    "            X_unclustered[:, 0],\n",
    "            X_unclustered[:, 1],\n",
    "            s=sizes[1],\n",
    "            c=\"grey\",\n",
    "        )\n",
    "    plt.scatter(\n",
    "        X_clustered[:, 0],\n",
    "        X_clustered[:, 1],\n",
    "        s=sizes[0],\n",
    "        c=cluster_colors(max(clustering) + 1)[clustering_clustered],\n",
    "    )\n",
    "    if limits is not None:\n",
    "        plt.xlim([limits[0],limits[1]])\n",
    "        plt.ylim([limits[2],limits[3]])\n",
    "    if not axis:\n",
    "        plt.axis(\"Off\")"
   ]
  },
  {
   "cell_type": "markdown",
   "metadata": {},
   "source": [
    "# k-means"
   ]
  },
  {
   "cell_type": "code",
   "execution_count": null,
   "metadata": {},
   "outputs": [],
   "source": [
    "data_blobs = datasets.make_blobs(n_samples=500, n_features=2, random_state=10)[0]\n",
    "plot_clustering(data_blobs, axis=False)"
   ]
  },
  {
   "cell_type": "markdown",
   "metadata": {},
   "source": [
    "### k-means parameter selection with \"elbow method\""
   ]
  },
  {
   "cell_type": "code",
   "execution_count": null,
   "metadata": {},
   "outputs": [],
   "source": [
    "def elbow_method(dataset, max_k):\n",
    "    inertias = []\n",
    "    for k in range(1,max_k+1):\n",
    "        kmeans_clusterer = KMeans(n_clusters=k, n_init=\"auto\")\n",
    "        kmeans_clusterer.fit(dataset)\n",
    "        inertias.append(kmeans_clusterer.inertia_)\n",
    "    \n",
    "    plt.figure(figsize=(5,3))\n",
    "    plt.title(\"Inertia as function of k\")\n",
    "    _ = plt.plot(list(range(1, max_k+1)), inertias, \"-o\")"
   ]
  },
  {
   "cell_type": "code",
   "execution_count": null,
   "metadata": {},
   "outputs": [],
   "source": [
    "elbow_method(data_blobs, 10)"
   ]
  },
  {
   "cell_type": "code",
   "execution_count": null,
   "metadata": {},
   "outputs": [],
   "source": [
    "kmeans_clusterer = KMeans(n_clusters=3, n_init=\"auto\")\n",
    "plot_clustering(data_blobs, clustering=kmeans_clusterer.fit_predict(data_blobs), axis=False)"
   ]
  },
  {
   "cell_type": "markdown",
   "metadata": {},
   "source": [
    "### k-means with far-away outliers"
   ]
  },
  {
   "cell_type": "code",
   "execution_count": null,
   "metadata": {},
   "outputs": [],
   "source": [
    "data_blobs_and_outlier = np.vstack((data_blobs, np.array([[100,100]])))\n",
    "plot_clustering(data_blobs_and_outlier, axis=True)"
   ]
  },
  {
   "cell_type": "code",
   "execution_count": null,
   "metadata": {},
   "outputs": [],
   "source": [
    "elbow_method(data_blobs_and_outlier, 10)"
   ]
  },
  {
   "cell_type": "code",
   "execution_count": null,
   "metadata": {},
   "outputs": [],
   "source": [
    "kmeans_clusterer = KMeans(n_clusters=3, n_init=\"auto\")\n",
    "plot_clustering(data_blobs_and_outlier, kmeans_clusterer.fit_predict(data_blobs_and_outlier), axis=True)"
   ]
  },
  {
   "cell_type": "code",
   "execution_count": null,
   "metadata": {},
   "outputs": [],
   "source": [
    "kmeans_clusterer = KMeans(n_clusters=4, n_init=\"auto\")\n",
    "plot_clustering(data_blobs_and_outlier, kmeans_clusterer.fit_predict(data_blobs_and_outlier), axis=True)"
   ]
  },
  {
   "cell_type": "markdown",
   "metadata": {},
   "source": [
    "### k-means when clusters are not convex"
   ]
  },
  {
   "cell_type": "code",
   "execution_count": null,
   "metadata": {},
   "outputs": [],
   "source": [
    "data_moons = datasets.make_moons(n_samples=500, noise=0.05, random_state=0)[0]\n",
    "plot_clustering(data_moons, axis=False)"
   ]
  },
  {
   "cell_type": "code",
   "execution_count": null,
   "metadata": {},
   "outputs": [],
   "source": [
    "elbow_method(data_moons, 10)"
   ]
  },
  {
   "cell_type": "code",
   "execution_count": null,
   "metadata": {},
   "outputs": [],
   "source": [
    "kmeans_clusterer = KMeans(n_clusters=4, n_init=\"auto\")\n",
    "plot_clustering(data_moons, clustering=kmeans_clusterer.fit_predict(data_moons), axis=False)"
   ]
  },
  {
   "cell_type": "markdown",
   "metadata": {},
   "source": [
    "# Rips clustering (Single linkage)"
   ]
  },
  {
   "cell_type": "markdown",
   "metadata": {},
   "source": [
    "### SL on non-convex clusters"
   ]
  },
  {
   "cell_type": "code",
   "execution_count": null,
   "metadata": {},
   "outputs": [],
   "source": [
    "plot_clustering(data_moons, axis=False)"
   ]
  },
  {
   "cell_type": "code",
   "execution_count": null,
   "metadata": {},
   "outputs": [],
   "source": [
    "fig = plt.figure(figsize=(25, 10))\n",
    "single_linkage_hierarchy = linkage(data_moons, \"single\")\n",
    "dn = dendrogram(single_linkage_hierarchy, no_labels=True, orientation=\"right\")"
   ]
  },
  {
   "cell_type": "code",
   "execution_count": null,
   "metadata": {},
   "outputs": [],
   "source": [
    "distance_scale = 0.2\n",
    "plot_clustering(data_moons, fcluster(single_linkage_hierarchy, distance_scale, criterion=\"distance\"))"
   ]
  },
  {
   "cell_type": "markdown",
   "metadata": {},
   "source": [
    "### SL with far-away outliers"
   ]
  },
  {
   "cell_type": "code",
   "execution_count": null,
   "metadata": {},
   "outputs": [],
   "source": [
    "fig = plt.figure(figsize=(25, 10))\n",
    "single_linkage_hierarchy = linkage(data_blobs_and_outlier, \"single\")\n",
    "dn = dendrogram(single_linkage_hierarchy, no_labels=True, orientation=\"right\")"
   ]
  },
  {
   "cell_type": "code",
   "execution_count": null,
   "metadata": {},
   "outputs": [],
   "source": [
    "dn = dendrogram(single_linkage_hierarchy, no_labels=True, orientation=\"right\")\n",
    "_ = plt.xlim([0,10])"
   ]
  },
  {
   "cell_type": "code",
   "execution_count": null,
   "metadata": {},
   "outputs": [],
   "source": [
    "distance_scale = 2\n",
    "plot_clustering(data_blobs_and_outlier, fcluster(single_linkage_hierarchy, distance_scale, criterion=\"distance\"))"
   ]
  },
  {
   "cell_type": "markdown",
   "metadata": {},
   "source": [
    "### SL with scatter noise"
   ]
  },
  {
   "cell_type": "code",
   "execution_count": null,
   "metadata": {},
   "outputs": [],
   "source": [
    "data_moons_noisy = datasets.make_moons(n_samples=2000, noise=0.15, random_state=0)[0]\n",
    "plot_clustering(data_moons_noisy)"
   ]
  },
  {
   "cell_type": "code",
   "execution_count": null,
   "metadata": {},
   "outputs": [],
   "source": [
    "fig = plt.figure(figsize=(25, 10))\n",
    "single_linkage_hierarchy = linkage(data_moons_noisy, \"single\")\n",
    "dn = dendrogram(single_linkage_hierarchy, no_labels=True, orientation=\"right\")"
   ]
  },
  {
   "cell_type": "code",
   "execution_count": null,
   "metadata": {},
   "outputs": [],
   "source": [
    "distance_scale = 0.1\n",
    "plot_clustering(data_moons_noisy, fcluster(single_linkage_hierarchy, distance_scale, criterion=\"distance\"))"
   ]
  },
  {
   "cell_type": "markdown",
   "metadata": {},
   "source": [
    "### SL with multiscale structure"
   ]
  },
  {
   "cell_type": "code",
   "execution_count": null,
   "metadata": {},
   "outputs": [],
   "source": [
    "data_blobs_2 = datasets.make_blobs(n_samples=20, centers=1, cluster_std = 5, n_features=2, random_state=1)[0]\n",
    "data_blobs_different_scales = np.vstack((data_blobs, data_blobs_2 + 30))\n",
    "plot_clustering(data_blobs_different_scales, axis=True)"
   ]
  },
  {
   "cell_type": "code",
   "execution_count": null,
   "metadata": {},
   "outputs": [],
   "source": [
    "fig = plt.figure(figsize=(25, 10))\n",
    "single_linkage_hierarchy = linkage(data_blobs_different_scales, \"single\")\n",
    "dn = dendrogram(single_linkage_hierarchy, no_labels=True, orientation=\"right\")"
   ]
  },
  {
   "cell_type": "code",
   "execution_count": null,
   "metadata": {},
   "outputs": [],
   "source": [
    "distance_scale = 4\n",
    "plot_clustering(data_blobs_different_scales, fcluster(single_linkage_hierarchy, distance_scale, criterion=\"distance\"))"
   ]
  },
  {
   "cell_type": "markdown",
   "metadata": {},
   "source": [
    "# Degree-Rips clustering (DBSCAN)"
   ]
  },
  {
   "cell_type": "markdown",
   "metadata": {},
   "source": [
    "### DBSCAN with scatter noise"
   ]
  },
  {
   "cell_type": "code",
   "execution_count": null,
   "metadata": {},
   "outputs": [],
   "source": [
    "dbscan_clusterer = DBSCAN(eps=0.1, min_samples=10)\n",
    "plot_clustering(data_moons_noisy, clustering=dbscan_clusterer.fit_predict(data_moons_noisy), axis=False)"
   ]
  },
  {
   "cell_type": "markdown",
   "metadata": {},
   "source": [
    "### DBSCAN with variable density"
   ]
  },
  {
   "cell_type": "code",
   "execution_count": null,
   "metadata": {},
   "outputs": [],
   "source": [
    "url = \"https://github.com/scikit-learn-contrib/hdbscan/blob/4052692af994610adc9f72486a47c905dd527c94/notebooks/clusterable_data.npy?raw=true\"\n",
    "f = urlopen(url) ; rf = f.read()\n",
    "data_varying_density = np.load(BytesIO(rf))\n",
    "\n",
    "plot_clustering(data_varying_density)"
   ]
  },
  {
   "cell_type": "code",
   "execution_count": null,
   "metadata": {},
   "outputs": [],
   "source": [
    "dbscan_clusterer = DBSCAN(eps=0.05, min_samples=50)\n",
    "plot_clustering(data_varying_density, clustering=dbscan_clusterer.fit_predict(data_varying_density), axis=False)"
   ]
  },
  {
   "cell_type": "markdown",
   "metadata": {},
   "source": [
    "# Persistable"
   ]
  },
  {
   "cell_type": "markdown",
   "metadata": {},
   "source": [
    "### Persistable with scatter noise"
   ]
  },
  {
   "cell_type": "code",
   "execution_count": null,
   "metadata": {},
   "outputs": [],
   "source": [
    "p = persistable.Persistable(data_moons_noisy)\n",
    "pi = persistable.PersistableInteractive(p)\n",
    "pi.start_UI(inline=True)"
   ]
  },
  {
   "cell_type": "code",
   "execution_count": null,
   "metadata": {},
   "outputs": [],
   "source": [
    "plot_clustering(data_moons_noisy, clustering=pi.cluster())"
   ]
  },
  {
   "cell_type": "markdown",
   "metadata": {},
   "source": [
    "### Persistable with variable density"
   ]
  },
  {
   "cell_type": "code",
   "execution_count": null,
   "metadata": {},
   "outputs": [],
   "source": [
    "p = persistable.Persistable(data_varying_density)\n",
    "pi = persistable.PersistableInteractive(p)\n",
    "pi.start_UI()"
   ]
  },
  {
   "cell_type": "code",
   "execution_count": null,
   "metadata": {},
   "outputs": [],
   "source": [
    "plot_clustering(data_varying_density, clustering=pi.cluster())"
   ]
  },
  {
   "cell_type": "markdown",
   "metadata": {},
   "source": [
    "### k-means with density-sensitive task"
   ]
  },
  {
   "cell_type": "code",
   "execution_count": null,
   "metadata": {},
   "outputs": [],
   "source": [
    "# load uber pickup data from https://github.com/fivethirtyeight/uber-tlc-foil-response\n",
    "url = \"https://raw.githubusercontent.com/fivethirtyeight/uber-tlc-foil-response/master/uber-trip-data/uber-raw-data-apr14.csv\"\n",
    "response = requests.get(url)\n",
    "as_pd = pd.read_csv(StringIO(response.text), sep=',')\n",
    "data_uber = np.asarray(as_pd)[:, 1:3].astype(float)\n",
    "\n",
    "# plot on map\n",
    "fig = px.scatter_mapbox(\n",
    "    lat=data_uber[:, 0], lon=data_uber[:, 1], zoom=9, mapbox_style=\"carto-positron\")\n",
    "_ = plot(fig, auto_open=True)\n",
    "\n",
    "# dataset size\n",
    "data_uber.shape"
   ]
  },
  {
   "cell_type": "code",
   "execution_count": null,
   "metadata": {},
   "outputs": [],
   "source": [
    "elbow_method(data_uber, 20)"
   ]
  },
  {
   "cell_type": "code",
   "execution_count": null,
   "metadata": {},
   "outputs": [],
   "source": [
    "# cluster and plot on map\n",
    "\n",
    "kmeans_clusterer = KMeans(n_clusters=7, n_init=\"auto\")\n",
    "cluster_labels = kmeans_clusterer.fit_predict(data_uber)\n",
    "\n",
    "# there must be a better way of doing this\n",
    "df = pd.DataFrame(data_uber, columns=[\"lat\", \"lon\"])\n",
    "df[\"cluster\"] = np.array(cluster_labels, dtype=str)\n",
    "color_sequence = np.array([\"#808080\"] + list(cluster_colors(max(cluster_labels)+1)), dtype=str)\n",
    "category_orders = {\"cluster\": np.array(range(-1,np.amax(cluster_labels) + 1), dtype=str)}\n",
    "fig = px.scatter_mapbox(df, lat=\"lat\", lon=\"lon\", color=\"cluster\", category_orders=category_orders,\n",
    "                        color_discrete_sequence=color_sequence, zoom=9, mapbox_style=\"carto-positron\")\n",
    "_ = plot(fig, auto_open=True)"
   ]
  },
  {
   "cell_type": "markdown",
   "metadata": {},
   "source": [
    "### Persistable with density-sensitive task"
   ]
  },
  {
   "cell_type": "code",
   "execution_count": null,
   "metadata": {},
   "outputs": [],
   "source": [
    "p = persistable.Persistable(data_uber, n_neighbors=300, subsample=30000)\n",
    "pi = persistable.PersistableInteractive(p)\n",
    "pi.start_UI()"
   ]
  },
  {
   "cell_type": "markdown",
   "metadata": {},
   "source": [
    "Let `k` be the number returned in the previous cell. In a new window, enter the address `localhost:k` to access persistable interactively."
   ]
  },
  {
   "cell_type": "code",
   "execution_count": null,
   "metadata": {},
   "outputs": [],
   "source": [
    "# cluster and plot on map\n",
    "cluster_labels = pi.cluster()\n",
    "\n",
    "# there must be a better way of doing this\n",
    "df = pd.DataFrame(data_uber, columns=[\"lat\", \"lon\"])\n",
    "df[\"cluster\"] = np.array(cluster_labels, dtype=str)\n",
    "color_sequence = np.array([\"#808080\"] + list(cluster_colors(max(cluster_labels)+1)), dtype=str)\n",
    "category_orders = {\"cluster\": np.array(range(-1,np.amax(cluster_labels) + 1), dtype=str)}\n",
    "fig = px.scatter_mapbox(df, lat=\"lat\", lon=\"lon\", color=\"cluster\", category_orders=category_orders,\n",
    "                        color_discrete_sequence=color_sequence, zoom=9, mapbox_style=\"carto-positron\")\n",
    "_ = plot(fig, auto_open=True)"
   ]
  },
  {
   "cell_type": "markdown",
   "metadata": {},
   "source": [
    "# To play around: olive oil data\n",
    "\n",
    "Can you find a \"better\" clustering than k-means using one of the density-based clustering algorithms we saw today?"
   ]
  },
  {
   "cell_type": "code",
   "execution_count": null,
   "metadata": {},
   "outputs": [],
   "source": [
    "# data from \"A Generalized Single Linkage Method for Estimating the Cluster Tree of a Density\" Werner Stuetzle, Rebecca Nugent\n",
    "\n",
    "from olive_oil_data import olive_oil_scaled\n",
    "from olive_oil_data import olive_oil_areas\n",
    "\n",
    "from sklearn.metrics import confusion_matrix"
   ]
  },
  {
   "cell_type": "code",
   "execution_count": null,
   "metadata": {},
   "outputs": [],
   "source": [
    "true_labels = np.array(olive_oil_areas)-1\n",
    "\n",
    "kmeans_clusterer = KMeans(n_clusters=9, n_init=\"auto\")\n",
    "cl = kmeans_clusterer.fit_predict(olive_oil_scaled)\n",
    "confusion_matrix(true_labels, cl)"
   ]
  }
 ],
 "metadata": {
  "kernelspec": {
   "display_name": "Python 3 (ipykernel)",
   "language": "python",
   "name": "python3"
  },
  "language_info": {
   "codemirror_mode": {
    "name": "ipython",
    "version": 3
   },
   "file_extension": ".py",
   "mimetype": "text/x-python",
   "name": "python",
   "nbconvert_exporter": "python",
   "pygments_lexer": "ipython3",
   "version": "3.9.16"
  },
  "vscode": {
   "interpreter": {
    "hash": "30765f2d388fe69164e90351ba0c946ae17d7e45b97f38e607467fe202d5073e"
   }
  }
 },
 "nbformat": 4,
 "nbformat_minor": 2
}
