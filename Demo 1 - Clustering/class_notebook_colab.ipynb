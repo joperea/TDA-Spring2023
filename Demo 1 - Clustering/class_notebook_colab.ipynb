{
  "cells": [
    {
      "cell_type": "markdown",
      "metadata": {
        "id": "uOJ4fHC8DBI9"
      },
      "source": [
        "# Install and import required packages"
      ]
    },
    {
      "cell_type": "code",
      "execution_count": null,
      "metadata": {
        "id": "F_y-E2IF8iFH"
      },
      "outputs": [],
      "source": [
        "!pip install git+https://github.com/LuisScoccola/persistable.git@experimental"
      ]
    },
    {
      "cell_type": "code",
      "execution_count": null,
      "metadata": {
        "id": "rfJ-ZU7T8sJp"
      },
      "outputs": [],
      "source": [
        "!pip install glasbey --ignore-requires-python"
      ]
    },
    {
      "cell_type": "markdown",
      "metadata": {
        "id": "l6J48uWMCp7I"
      },
      "source": [
        "### At this point, restart the runtime!"
      ]
    },
    {
      "cell_type": "code",
      "execution_count": null,
      "metadata": {
        "id": "zBi5bT9K8hVO"
      },
      "outputs": [],
      "source": [
        "import numpy as np\n",
        "import pandas as pd\n",
        "from sklearn import datasets\n",
        "\n",
        "from matplotlib import pyplot as plt\n",
        "import plotly.express as px\n",
        "from plotly.offline import plot\n",
        "\n",
        "import requests\n",
        "from urllib.request import urlopen\n",
        "from io import BytesIO\n",
        "from io import StringIO\n",
        "\n",
        "from scipy.cluster.hierarchy import dendrogram, linkage, fcluster\n",
        "from sklearn.cluster import KMeans, DBSCAN\n",
        "import persistable\n",
        "\n",
        "# this library gives an easy way to create color palettes with\n",
        "# very different colors. This is useful for coloring clusterings.\n",
        "import glasbey\n",
        "\n",
        "# a simple wrapper for glasbey\n",
        "def cluster_colors(n_classes):\n",
        "    return np.array(glasbey.create_palette(palette_size=n_classes))\n",
        "\n",
        "# a function that will plot a 2D dataset and, optionally, color it according\n",
        "# to a user given clustering. If no clustering is given, all data points are\n",
        "# colored with the same color.\n",
        "# Moreover, the cluster label is allowed to be -1. In that case the point is\n",
        "# considered \"unclustered\" and is colored in gray\n",
        "def plot_clustering(X, clustering = None, limits=None, sizes=[4, 2], noise_points=True, axis=True):\n",
        "    if clustering is None:\n",
        "        clustering = np.ones(X.shape[0], dtype=int)\n",
        "    X_clustered = X[clustering != -1]\n",
        "    X_unclustered = X[clustering == -1]\n",
        "    clustering_clustered = clustering[clustering != -1]\n",
        "    if noise_points:\n",
        "        plt.scatter(\n",
        "            X_unclustered[:, 0],\n",
        "            X_unclustered[:, 1],\n",
        "            s=sizes[1],\n",
        "            c=\"grey\",\n",
        "        )\n",
        "    plt.scatter(\n",
        "        X_clustered[:, 0],\n",
        "        X_clustered[:, 1],\n",
        "        s=sizes[0],\n",
        "        c=cluster_colors(max(clustering) + 1)[clustering_clustered],\n",
        "    )\n",
        "    if limits is not None:\n",
        "        plt.xlim([limits[0],limits[1]])\n",
        "        plt.ylim([limits[2],limits[3]])\n",
        "    if not axis:\n",
        "        plt.axis(\"Off\")"
      ]
    },
    {
      "cell_type": "markdown",
      "metadata": {
        "id": "-GMpjTUe8hVP"
      },
      "source": [
        "# k-means"
      ]
    },
    {
      "cell_type": "code",
      "execution_count": null,
      "metadata": {
        "id": "ncR4B6sf8hVP"
      },
      "outputs": [],
      "source": [
        "data_blobs = datasets.make_blobs(n_samples=500, n_features=2, random_state=10)[0]\n",
        "plot_clustering(data_blobs, axis=False)"
      ]
    },
    {
      "cell_type": "markdown",
      "metadata": {
        "id": "Navpziql8hVQ"
      },
      "source": [
        "### k-means parameter selection with \"elbow method\""
      ]
    },
    {
      "cell_type": "code",
      "execution_count": null,
      "metadata": {
        "id": "r-11Wof88hVQ"
      },
      "outputs": [],
      "source": [
        "def elbow_method(dataset, max_k):\n",
        "    inertias = []\n",
        "    for k in range(1,max_k+1):\n",
        "        kmeans_clusterer = KMeans(n_clusters=k)\n",
        "        kmeans_clusterer.fit(dataset)\n",
        "        inertias.append(kmeans_clusterer.inertia_)\n",
        "    \n",
        "    plt.figure(figsize=(5,3))\n",
        "    plt.title(\"Inertia as function of k\")\n",
        "    _ = plt.plot(list(range(1, max_k+1)), inertias, \"-o\")"
      ]
    },
    {
      "cell_type": "code",
      "execution_count": null,
      "metadata": {
        "id": "zskOpLvc8hVQ"
      },
      "outputs": [],
      "source": [
        "elbow_method(data_blobs, 10)"
      ]
    },
    {
      "cell_type": "code",
      "execution_count": null,
      "metadata": {
        "id": "pBs3oSnV8hVR"
      },
      "outputs": [],
      "source": [
        "kmeans_clusterer = KMeans(n_clusters=3)\n",
        "plot_clustering(data_blobs, clustering=kmeans_clusterer.fit_predict(data_blobs), axis=False)"
      ]
    },
    {
      "cell_type": "markdown",
      "metadata": {
        "id": "2bVFk3hX8hVR"
      },
      "source": [
        "### k-means with far-away outliers"
      ]
    },
    {
      "cell_type": "code",
      "execution_count": null,
      "metadata": {
        "id": "onH1FlXZ8hVR"
      },
      "outputs": [],
      "source": [
        "data_blobs_and_outlier = np.vstack((data_blobs, np.array([[100,100]])))\n",
        "plot_clustering(data_blobs_and_outlier, axis=True)"
      ]
    },
    {
      "cell_type": "code",
      "execution_count": null,
      "metadata": {
        "id": "WkbUGXwV8hVR"
      },
      "outputs": [],
      "source": [
        "elbow_method(data_blobs_and_outlier, 10)"
      ]
    },
    {
      "cell_type": "code",
      "execution_count": null,
      "metadata": {
        "id": "WGIDsi558hVR"
      },
      "outputs": [],
      "source": [
        "kmeans_clusterer = KMeans(n_clusters=3)\n",
        "plot_clustering(data_blobs_and_outlier, kmeans_clusterer.fit_predict(data_blobs_and_outlier), axis=True)"
      ]
    },
    {
      "cell_type": "code",
      "execution_count": null,
      "metadata": {
        "id": "qjH4Fc7i8hVS"
      },
      "outputs": [],
      "source": [
        "kmeans_clusterer = KMeans(n_clusters=4)\n",
        "plot_clustering(data_blobs_and_outlier, kmeans_clusterer.fit_predict(data_blobs_and_outlier), axis=True)"
      ]
    },
    {
      "cell_type": "markdown",
      "metadata": {
        "id": "r2PGb0xM8hVS"
      },
      "source": [
        "### k-means when clusters are not convex"
      ]
    },
    {
      "cell_type": "code",
      "execution_count": null,
      "metadata": {
        "id": "RY_RbYm98hVS"
      },
      "outputs": [],
      "source": [
        "data_moons = datasets.make_moons(n_samples=500, noise=0.05, random_state=0)[0]\n",
        "plot_clustering(data_moons, axis=False)"
      ]
    },
    {
      "cell_type": "code",
      "execution_count": null,
      "metadata": {
        "id": "1_xnyTXc8hVS"
      },
      "outputs": [],
      "source": [
        "elbow_method(data_moons, 10)"
      ]
    },
    {
      "cell_type": "code",
      "execution_count": null,
      "metadata": {
        "id": "cZIaXqcO8hVS"
      },
      "outputs": [],
      "source": [
        "kmeans_clusterer = KMeans(n_clusters=4)\n",
        "plot_clustering(data_moons, clustering=kmeans_clusterer.fit_predict(data_moons), axis=False)"
      ]
    },
    {
      "cell_type": "markdown",
      "metadata": {
        "id": "0UfNNezz8hVS"
      },
      "source": [
        "# Rips clustering (Single linkage)"
      ]
    },
    {
      "cell_type": "markdown",
      "metadata": {
        "id": "FX7uyqL68hVS"
      },
      "source": [
        "### SL on non-convex clusters"
      ]
    },
    {
      "cell_type": "code",
      "execution_count": null,
      "metadata": {
        "id": "n6dpGoiD8hVS"
      },
      "outputs": [],
      "source": [
        "plot_clustering(data_moons, axis=False)"
      ]
    },
    {
      "cell_type": "code",
      "execution_count": null,
      "metadata": {
        "id": "0uC6FFmC8hVT"
      },
      "outputs": [],
      "source": [
        "fig = plt.figure(figsize=(25, 10))\n",
        "single_linkage_hierarchy = linkage(data_moons, \"single\")\n",
        "dn = dendrogram(single_linkage_hierarchy, no_labels=True, orientation=\"right\")"
      ]
    },
    {
      "cell_type": "code",
      "execution_count": null,
      "metadata": {
        "id": "6jZXg9df8hVT"
      },
      "outputs": [],
      "source": [
        "distance_scale = 0.2\n",
        "plot_clustering(data_moons, fcluster(single_linkage_hierarchy, distance_scale, criterion=\"distance\"))"
      ]
    },
    {
      "cell_type": "markdown",
      "metadata": {
        "id": "vN_Hitfp8hVT"
      },
      "source": [
        "### SL with far-away outliers"
      ]
    },
    {
      "cell_type": "code",
      "execution_count": null,
      "metadata": {
        "id": "L-SLN6Zx8hVT"
      },
      "outputs": [],
      "source": [
        "fig = plt.figure(figsize=(25, 10))\n",
        "single_linkage_hierarchy = linkage(data_blobs_and_outlier, \"single\")\n",
        "dn = dendrogram(single_linkage_hierarchy, no_labels=True, orientation=\"right\")"
      ]
    },
    {
      "cell_type": "code",
      "execution_count": null,
      "metadata": {
        "id": "mxZXvqiN8hVT"
      },
      "outputs": [],
      "source": [
        "dn = dendrogram(single_linkage_hierarchy, no_labels=True, orientation=\"right\")\n",
        "_ = plt.xlim([0,10])"
      ]
    },
    {
      "cell_type": "code",
      "execution_count": null,
      "metadata": {
        "id": "9rp9asgC8hVT"
      },
      "outputs": [],
      "source": [
        "distance_scale = 2\n",
        "plot_clustering(data_blobs_and_outlier, fcluster(single_linkage_hierarchy, distance_scale, criterion=\"distance\"))"
      ]
    },
    {
      "cell_type": "markdown",
      "metadata": {
        "id": "3Y242hp08hVT"
      },
      "source": [
        "### SL with scatter noise"
      ]
    },
    {
      "cell_type": "code",
      "execution_count": null,
      "metadata": {
        "id": "cuuppgaC8hVU"
      },
      "outputs": [],
      "source": [
        "data_moons_noisy = datasets.make_moons(n_samples=2000, noise=0.15, random_state=0)[0]\n",
        "plot_clustering(data_moons_noisy)"
      ]
    },
    {
      "cell_type": "code",
      "execution_count": null,
      "metadata": {
        "id": "nS4mr3Kr8hVU"
      },
      "outputs": [],
      "source": [
        "fig = plt.figure(figsize=(25, 10))\n",
        "single_linkage_hierarchy = linkage(data_moons_noisy, \"single\")\n",
        "dn = dendrogram(single_linkage_hierarchy, no_labels=True, orientation=\"right\")"
      ]
    },
    {
      "cell_type": "code",
      "execution_count": null,
      "metadata": {
        "id": "4TJFUDGW8hVU"
      },
      "outputs": [],
      "source": [
        "distance_scale = 0.1\n",
        "plot_clustering(data_moons_noisy, fcluster(single_linkage_hierarchy, distance_scale, criterion=\"distance\"))"
      ]
    },
    {
      "cell_type": "markdown",
      "metadata": {
        "id": "V919MBJd8hVU"
      },
      "source": [
        "### SL with multiscale structure"
      ]
    },
    {
      "cell_type": "code",
      "execution_count": null,
      "metadata": {
        "id": "HnrID0to8hVU"
      },
      "outputs": [],
      "source": [
        "data_blobs_2 = datasets.make_blobs(n_samples=20, centers=1, cluster_std = 5, n_features=2, random_state=1)[0]\n",
        "data_blobs_different_scales = np.vstack((data_blobs, data_blobs_2 + 30))\n",
        "plot_clustering(data_blobs_different_scales, axis=True)"
      ]
    },
    {
      "cell_type": "code",
      "execution_count": null,
      "metadata": {
        "id": "zGnOT3Ja8hVU"
      },
      "outputs": [],
      "source": [
        "fig = plt.figure(figsize=(25, 10))\n",
        "single_linkage_hierarchy = linkage(data_blobs_different_scales, \"single\")\n",
        "dn = dendrogram(single_linkage_hierarchy, no_labels=True, orientation=\"right\")"
      ]
    },
    {
      "cell_type": "code",
      "execution_count": null,
      "metadata": {
        "id": "F_sJmp9E8hVU"
      },
      "outputs": [],
      "source": [
        "distance_scale = 4\n",
        "plot_clustering(data_blobs_different_scales, fcluster(single_linkage_hierarchy, distance_scale, criterion=\"distance\"))"
      ]
    },
    {
      "cell_type": "markdown",
      "metadata": {
        "id": "L4rHc3Rn8hVU"
      },
      "source": [
        "# Degree-Rips clustering (DBSCAN)"
      ]
    },
    {
      "cell_type": "markdown",
      "metadata": {
        "id": "3jjf1Mja8hVU"
      },
      "source": [
        "### DBSCAN with scatter noise"
      ]
    },
    {
      "cell_type": "code",
      "execution_count": null,
      "metadata": {
        "id": "wZVuzqA_8hVU"
      },
      "outputs": [],
      "source": [
        "dbscan_clusterer = DBSCAN(eps=0.1, min_samples=10)\n",
        "plot_clustering(data_moons_noisy, clustering=dbscan_clusterer.fit_predict(data_moons_noisy))"
      ]
    },
    {
      "cell_type": "markdown",
      "metadata": {
        "id": "7Z9u1VG28hVU"
      },
      "source": [
        "### DBSCAN with variable density"
      ]
    },
    {
      "cell_type": "code",
      "execution_count": null,
      "metadata": {
        "id": "VHVKQ-XU8hVU"
      },
      "outputs": [],
      "source": [
        "url = \"https://github.com/scikit-learn-contrib/hdbscan/blob/4052692af994610adc9f72486a47c905dd527c94/notebooks/clusterable_data.npy?raw=true\"\n",
        "f = urlopen(url) ; rf = f.read()\n",
        "data_varying_density = np.load(BytesIO(rf))\n",
        "\n",
        "plot_clustering(data_varying_density)"
      ]
    },
    {
      "cell_type": "code",
      "execution_count": null,
      "metadata": {
        "id": "PAFvQBp-8hVV"
      },
      "outputs": [],
      "source": [
        "dbscan_clusterer = DBSCAN(eps=0.05, min_samples=50)\n",
        "plot_clustering(data_varying_density, clustering=dbscan_clusterer.fit_predict(data_varying_density), axis=False)"
      ]
    },
    {
      "cell_type": "markdown",
      "metadata": {
        "id": "UkZW4SDv8hVV"
      },
      "source": [
        "# Persistable"
      ]
    },
    {
      "cell_type": "markdown",
      "metadata": {
        "id": "yUphTzZa8hVV"
      },
      "source": [
        "### Persistable with scatter noise"
      ]
    },
    {
      "cell_type": "code",
      "execution_count": null,
      "metadata": {
        "id": "8SQs68z28hVV"
      },
      "outputs": [],
      "source": [
        "p = persistable.Persistable(data_moons_noisy)\n",
        "pi = persistable.PersistableInteractive(p)\n",
        "pi.start_UI(inline=True)"
      ]
    },
    {
      "cell_type": "code",
      "execution_count": null,
      "metadata": {
        "id": "rouJWnqx8hVV"
      },
      "outputs": [],
      "source": [
        "plot_clustering(data_moons_noisy, clustering=pi.cluster())"
      ]
    },
    {
      "cell_type": "markdown",
      "metadata": {
        "id": "9sYSXx2E8hVV"
      },
      "source": [
        "### Persistable with variable density"
      ]
    },
    {
      "cell_type": "code",
      "execution_count": null,
      "metadata": {
        "id": "bJPa9tRH8hVV"
      },
      "outputs": [],
      "source": [
        "p = persistable.Persistable(data_varying_density)\n",
        "pi = persistable.PersistableInteractive(p)\n",
        "pi.start_UI(inline=True)"
      ]
    },
    {
      "cell_type": "code",
      "execution_count": null,
      "metadata": {
        "id": "TgKYHgvL8hVV"
      },
      "outputs": [],
      "source": [
        "plot_clustering(data_varying_density, clustering=pi.cluster())"
      ]
    },
    {
      "cell_type": "markdown",
      "metadata": {
        "id": "EjKtlYx-8hVV"
      },
      "source": [
        "### k-means with density-sensitive task"
      ]
    },
    {
      "cell_type": "code",
      "execution_count": null,
      "metadata": {
        "id": "SHYbNYbF8hVV"
      },
      "outputs": [],
      "source": [
        "import plotly\n",
        "\n",
        "# load uber pickup data from https://github.com/fivethirtyeight/uber-tlc-foil-response\n",
        "url = \"https://raw.githubusercontent.com/fivethirtyeight/uber-tlc-foil-response/master/uber-trip-data/uber-raw-data-apr14.csv\"\n",
        "response = requests.get(url)\n",
        "as_pd = pd.read_csv(StringIO(response.text), sep=',')\n",
        "data_uber = np.asarray(as_pd)[:, 1:3].astype(float)\n",
        "\n",
        "# plot on map\n",
        "fig = px.scatter_mapbox(\n",
        "    lat=data_uber[:, 0], lon=data_uber[:, 1], zoom=9, mapbox_style=\"carto-positron\")\n",
        "\n",
        "# dataset size\n",
        "data_uber.shape"
      ]
    },
    {
      "cell_type": "code",
      "execution_count": null,
      "metadata": {
        "id": "2iWkQ-7pCGxy"
      },
      "outputs": [],
      "source": [
        "_ = plotly.offline.iplot(fig)"
      ]
    },
    {
      "cell_type": "code",
      "execution_count": null,
      "metadata": {
        "id": "aacegW2b8hVV"
      },
      "outputs": [],
      "source": [
        "elbow_method(data_uber, 10)"
      ]
    },
    {
      "cell_type": "code",
      "execution_count": null,
      "metadata": {
        "id": "N9GsHB778hVV"
      },
      "outputs": [],
      "source": [
        "# cluster and plot on map\n",
        "\n",
        "kmeans_clusterer = KMeans(n_clusters=5)\n",
        "cluster_labels = kmeans_clusterer.fit_predict(data_uber)\n",
        "\n",
        "# there must be a better way of doing this\n",
        "df = pd.DataFrame(data_uber, columns=[\"lat\", \"lon\"])\n",
        "df[\"cluster\"] = np.array(cluster_labels, dtype=str)\n",
        "color_sequence = np.array([\"#808080\"] + list(cluster_colors(max(cluster_labels)+1)), dtype=str)\n",
        "category_orders = {\"cluster\": np.array(range(-1,np.amax(cluster_labels) + 1), dtype=str)}\n",
        "fig = px.scatter_mapbox(df, lat=\"lat\", lon=\"lon\", color=\"cluster\", category_orders=category_orders,\n",
        "                        color_discrete_sequence=color_sequence, zoom=9, mapbox_style=\"carto-positron\")"
      ]
    },
    {
      "cell_type": "code",
      "execution_count": null,
      "metadata": {
        "id": "STFxX-rtCBVf"
      },
      "outputs": [],
      "source": [
        "_ = plotly.offline.iplot(fig)"
      ]
    },
    {
      "cell_type": "markdown",
      "metadata": {
        "id": "wmLpoEII8hVV"
      },
      "source": [
        "### Persistable with density-sensitive task"
      ]
    },
    {
      "cell_type": "code",
      "execution_count": null,
      "metadata": {
        "id": "5jnbpxBN8hVW"
      },
      "outputs": [],
      "source": [
        "p = persistable.Persistable(data_uber, n_neighbors=300, subsample=30000)\n",
        "pi = persistable.PersistableInteractive(p)\n",
        "pi.start_UI(inline=True)"
      ]
    },
    {
      "cell_type": "code",
      "execution_count": null,
      "metadata": {
        "id": "od5PKfOa8hVW"
      },
      "outputs": [],
      "source": [
        "# cluster and plot on map\n",
        "cluster_labels = pi.cluster()\n",
        "\n",
        "# there must be a better way of doing this\n",
        "df = pd.DataFrame(data_uber, columns=[\"lat\", \"lon\"])\n",
        "df[\"cluster\"] = np.array(cluster_labels, dtype=str)\n",
        "color_sequence = np.array([\"#808080\"] + list(cluster_colors(max(cluster_labels)+1)), dtype=str)\n",
        "category_orders = {\"cluster\": np.array(range(-1,np.amax(cluster_labels) + 1), dtype=str)}\n",
        "fig = px.scatter_mapbox(df, lat=\"lat\", lon=\"lon\", color=\"cluster\", category_orders=category_orders,\n",
        "                        color_discrete_sequence=color_sequence, zoom=9, mapbox_style=\"carto-positron\")"
      ]
    },
    {
      "cell_type": "code",
      "execution_count": null,
      "metadata": {
        "id": "8yUGQbF6CMtd"
      },
      "outputs": [],
      "source": [
        "_ = plotly.offline.iplot(fig)"
      ]
    },
    {
      "cell_type": "markdown",
      "metadata": {
        "id": "Gn1viLay8hVW"
      },
      "source": [
        "# To play around: olive oil data\n",
        "\n",
        "Can you find a \"better\" clustering than k-means using one of the density-based clustering algorithms we saw today?"
      ]
    },
    {
      "cell_type": "code",
      "execution_count": null,
      "metadata": {
        "id": "75CltdTuKA0l"
      },
      "outputs": [],
      "source": [
        "# data from \"A Generalized Single Linkage Method for Estimating the Cluster Tree of a Density\" Werner Stuetzle, Rebecca Nugent\n",
        "url = \"https://raw.githubusercontent.com/joperea/TDA-Spring2023/main/Feb-13-class/olive_data_preprocessed.npy\"\n",
        "f = urlopen(url) ; rf = f.read()\n",
        "data_olive_oil = np.loadtxt(BytesIO(rf))\n",
        "url = \"https://raw.githubusercontent.com/joperea/TDA-Spring2023/main/Feb-13-class/olive_data_labels.npy\"\n",
        "f = urlopen(url) ; rf = f.read()\n",
        "labels_olive_oil = np.loadtxt(BytesIO(rf))"
      ]
    },
    {
      "cell_type": "code",
      "execution_count": null,
      "metadata": {
        "id": "sFYT5auJKte9"
      },
      "outputs": [],
      "source": [
        "from sklearn.metrics import confusion_matrix"
      ]
    },
    {
      "cell_type": "code",
      "execution_count": null,
      "metadata": {
        "id": "kOLvdYQ18hVW"
      },
      "outputs": [],
      "source": [
        "kmeans_clusterer = KMeans(n_clusters=9)\n",
        "cl = kmeans_clusterer.fit_predict(data_olive_oil)\n",
        "confusion_matrix(labels_olive_oil, cl)"
      ]
    }
  ],
  "metadata": {
    "colab": {
      "provenance": []
    },
    "kernelspec": {
      "display_name": "TDA",
      "language": "python",
      "name": "python3"
    },
    "language_info": {
      "codemirror_mode": {
        "name": "ipython",
        "version": 3
      },
      "file_extension": ".py",
      "mimetype": "text/x-python",
      "name": "python",
      "nbconvert_exporter": "python",
      "pygments_lexer": "ipython3",
      "version": "3.9.16"
    },
    "orig_nbformat": 4,
    "vscode": {
      "interpreter": {
        "hash": "30765f2d388fe69164e90351ba0c946ae17d7e45b97f38e607467fe202d5073e"
      }
    }
  },
  "nbformat": 4,
  "nbformat_minor": 0
}
