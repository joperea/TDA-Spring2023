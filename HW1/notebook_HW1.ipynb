{
 "cells": [
  {
   "cell_type": "markdown",
   "metadata": {},
   "source": [
    "## What you will find in this notebook\n",
    "\n",
    "There are two goals:\n",
    "\n",
    "1. To see an example in which k-means, a widely known clustering algorithm, works well, and an example in which it does not work well. The case in which it does not work well is left as an exercise, which you will find at the end of this notebook.\n",
    "2. On the way, you will learn very basic python, and, in particular, how to manipulate data.\n",
    "\n",
    "Please complete the activities marked as **Do** or **Your Answer**. Make an effort to read the code and the comments, and to try to understand what each step is doing."
   ]
  },
  {
   "cell_type": "markdown",
   "metadata": {},
   "source": [
    "---"
   ]
  },
  {
   "cell_type": "markdown",
   "metadata": {
    "id": "1_oEV3mqIz1J"
   },
   "source": [
    "### 1. Importing  libraries\n",
    "\n",
    "**Do:** Import ``numpy`` and name it ``np``, as this is standard practice.\n",
    "Numpy is a library (i.e., a collection of functions, constants, etc. See https://www.geeksforgeeks.org/libraries-in-python/) for matrix and vector operations. See: https://numpy.org/\n",
    "\n",
    "Please read the content of the cell below. Lines starting with numeral (#) are comments, which will not be evaluated, and the rest is the code that will run. "
   ]
  },
  {
   "cell_type": "code",
   "execution_count": null,
   "metadata": {
    "id": "m9vNZ6ENeTY1"
   },
   "outputs": [],
   "source": [
    "# To run this cell, click anywhere on it (to select it) and:\n",
    "#   option 1 (mouse): click the Run button (the black triangle) at the top of the page\n",
    "#   option 2 (keyboard): press Ctrl + Enter (Windows, Linux) | Command + Enter (Mac)\n",
    "\n",
    "import numpy as np"
   ]
  },
  {
   "cell_type": "markdown",
   "metadata": {},
   "source": [
    "If everything went well, the ``In [ ]:`` on the top left of the cell will be replaced by ``In [ 1 ]:``. If you   run the cell again, the counter `` 1 `` will increase. Afterwards, numpy will be available for use in this notebook."
   ]
  },
  {
   "cell_type": "markdown",
   "metadata": {},
   "source": [
    "**Do:** Please run the cell below"
   ]
  },
  {
   "cell_type": "code",
   "execution_count": null,
   "metadata": {},
   "outputs": [],
   "source": [
    "x = np.arange(7) \n",
    "print('The numpy array x is qual to', x)\n",
    "print('The sum of its entries is:', np.sum(x))"
   ]
  },
  {
   "cell_type": "markdown",
   "metadata": {},
   "source": [
    "If everything went well, you will be able to see the array ``x`` and the sum of its  entries.\n",
    "\n",
    "**Important:** If you get the error message:  \n",
    "\n",
    "``NameError: name 'np' is not defined``\n",
    "\n",
    "it is because you did not import numpy (as np) before using it. Please go to the previous cell and do that. \n",
    "_Lesson:_ The order in which you run Juptyer notebook cells matters."
   ]
  },
  {
   "cell_type": "markdown",
   "metadata": {},
   "source": [
    "---"
   ]
  },
  {
   "cell_type": "markdown",
   "metadata": {},
   "source": [
    "### 2. Plotting functionality\n",
    "\n",
    "``matplotlib`` is the standard Python library for creating plots and visualizations  (https://matplotlib.org/). The cell below imports a portion of if (i.e., a module) called ``pyplot``, as well as a complementary library called Glasbey."
   ]
  },
  {
   "cell_type": "code",
   "execution_count": null,
   "metadata": {},
   "outputs": [],
   "source": [
    "# from the matplotlib library, import the pyplot module, for plotting. We give it the name plt as this is standard practice\n",
    "from matplotlib import pyplot as plt\n",
    "\n",
    "# glasbey gives an easy way to create color palettes with very different colors. \n",
    "# This is useful for coloring clusterings.\n",
    "import glasbey"
   ]
  },
  {
   "cell_type": "markdown",
   "metadata": {},
   "source": [
    "It is often useful to have custom functions (e.g., not included in available libraries), and the cell below defines two: ``cluster_colors`` and ``plot_clustering``. \n",
    "\n",
    "**Do:** Please run the cell below."
   ]
  },
  {
   "cell_type": "code",
   "execution_count": null,
   "metadata": {},
   "outputs": [],
   "source": [
    "# a simple wrapper for glasbey\n",
    "def cluster_colors(n_classes):\n",
    "    return np.array(glasbey.create_palette(palette_size=n_classes))\n",
    "\n",
    "# a function that will plot a 2D dataset and, optionally, color it according\n",
    "# to a user given clustering. If no clustering is given, all data points are\n",
    "# colored with the same color.\n",
    "# Moreover, the cluster label is allowed to be -1. In that case the point is\n",
    "# considered \"unclustered\" and is colored in gray\n",
    "def plot_clustering(X, clustering = None, sizes=[5, 1], noise_points=True, axis=True):\n",
    "    if clustering is None:\n",
    "        clustering = np.ones(X.shape[0], dtype=int)\n",
    "    X_clustered = X[clustering != -1]\n",
    "    X_unclustered = X[clustering == -1]\n",
    "    clustering_clustered = clustering[clustering != -1]\n",
    "    if noise_points:\n",
    "        plt.scatter(\n",
    "            X_unclustered[:, 0],\n",
    "            X_unclustered[:, 1],\n",
    "            s=sizes[1],\n",
    "            c=\"grey\",\n",
    "        )\n",
    "    plt.scatter(\n",
    "        X_clustered[:, 0],\n",
    "        X_clustered[:, 1],\n",
    "        s=sizes[0],\n",
    "        c=cluster_colors(max(clustering) + 1)[clustering_clustered],\n",
    "    )\n",
    "    if not axis:\n",
    "        plt.axis(\"Off\")"
   ]
  },
  {
   "cell_type": "markdown",
   "metadata": {},
   "source": [
    "**Question:** In your own words, what does the function ``plot_clustering`` do? Please type your answer in the cell below. To edit, double click the cell (to enter MarkDown edition mode), type the desired text and run the cell when finished.  "
   ]
  },
  {
   "cell_type": "markdown",
   "metadata": {},
   "source": [
    "**Your Answer:** "
   ]
  },
  {
   "cell_type": "markdown",
   "metadata": {},
   "source": [
    "---"
   ]
  },
  {
   "cell_type": "markdown",
   "metadata": {
    "id": "OsUpbl2nI5h4"
   },
   "source": [
    "### 3. Digits example\n",
    "\n",
    "``scikit-learn`` (see https://scikit-learn.org/stable/) is the standard Python library for most   data science tasks. It has common data sets, functionality for plotting, regression analysis, dimensionality reduction (e.g., with PCA, ISOMAP, etc) and much more.\n",
    "\n",
    "**Do:** Please read and run the cells below to load and inspect the MNIST handwritten digits data set (https://en.wikipedia.org/wiki/MNIST_database)"
   ]
  },
  {
   "cell_type": "code",
   "execution_count": null,
   "metadata": {
    "id": "44zs5lHRejp-"
   },
   "outputs": [],
   "source": [
    "# from the datasets module of scikit learn, import the load_digits function\n",
    "from sklearn.datasets import load_digits\n",
    "\n",
    "# import the digits dataset\n",
    "digits = load_digits()"
   ]
  },
  {
   "cell_type": "code",
   "execution_count": null,
   "metadata": {
    "id": "zR9Otjftevvu"
   },
   "outputs": [],
   "source": [
    "# the variable digits is a dictionary (keys <--> values). Let's see what keys it has\n",
    "print(list(digits.keys()))"
   ]
  },
  {
   "cell_type": "code",
   "execution_count": null,
   "metadata": {
    "id": "jvFsUjKLe2xv"
   },
   "outputs": [],
   "source": [
    "# we can inspect the value of each of these keys. \n",
    "# For instance, the value for the 'data' key is a 2D numpy array (the pointcloud); its rows are 1,797 points in R^64\n",
    "digits['data'].shape"
   ]
  },
  {
   "cell_type": "code",
   "execution_count": null,
   "metadata": {
    "id": "fygQnJlpfHPE"
   },
   "outputs": [],
   "source": [
    "# each point in the data is a specific encoding for an 8-by-8 pixel image of a handwritten digit. \n",
    "# the value of target contains the label/digit for each of the 1,797 points\n",
    "print(digits['target'].shape)\n",
    "\n",
    "# let's display the label for the first 25 points\n",
    "print(digits['target'][:25])"
   ]
  },
  {
   "cell_type": "code",
   "execution_count": null,
   "metadata": {
    "id": "pb8ThdxMfb_9"
   },
   "outputs": [],
   "source": [
    "# The images themselves are the value of the \"images\" keys:\n",
    "digits['images'].shape\n",
    "\n",
    "# we see that there are 1,797 elements, each consisting of a 8 by 8  matrix"
   ]
  },
  {
   "cell_type": "code",
   "execution_count": null,
   "metadata": {
    "id": "L5iL6qsbdeVk"
   },
   "outputs": [],
   "source": [
    "# let us display the first 25 images, with their corresponding label\n",
    "\n",
    "fig = plt.figure(figsize=(4, 3))\n",
    "\n",
    "for i in range(25):\n",
    "    ax = fig.add_subplot(5, 5, i + 1, xticks=[], yticks=[])\n",
    "    ax.imshow(digits.images[i], cmap=plt.cm.binary)\n",
    "    ax.text(0, 7, str(digits.target[i]))\n",
    "\n",
    "_ = plt.figure()"
   ]
  },
  {
   "cell_type": "markdown",
   "metadata": {},
   "source": [
    "---\n",
    "\n",
    "Next we will use Principal Component Analysis, or PCA for short (https://en.wikipedia.org/wiki/Principal_component_analysis) , to construct a 2-dimensional projection of the data and visualize the point cloud."
   ]
  },
  {
   "cell_type": "code",
   "execution_count": null,
   "metadata": {
    "id": "PZRBA_woeLSl"
   },
   "outputs": [],
   "source": [
    "# from scikit learn, import Principal Components Analysis\n",
    "from sklearn.decomposition import PCA\n",
    "\n",
    "# we construct a PCA object with 2 components\n",
    "pca = PCA(n_components=2)\n",
    "\n",
    "# we compute the 2D projection of the digits data\n",
    "proj2d = pca.fit_transform(digits.data)\n",
    "\n",
    "# we display the projection, coloring each point by its label\n",
    "plt.scatter(proj2d[:, 0], proj2d[:, 1], s= 10, c=digits.target, cmap=\"Paired\");\n",
    "plt.colorbar();"
   ]
  },
  {
   "cell_type": "markdown",
   "metadata": {},
   "source": [
    "**Question:** According to the plot above, what digits would be easier to classify from the rest (i.e., are more tightly clustered within same label and separated from other labels), and what digits could present issues?  Since the plot is the result of doing dimensionality reduction (PCA), are there caveats to your answer? Please explain below."
   ]
  },
  {
   "cell_type": "markdown",
   "metadata": {},
   "source": [
    "**Your Answer:**"
   ]
  },
  {
   "cell_type": "markdown",
   "metadata": {},
   "source": [
    "---"
   ]
  },
  {
   "cell_type": "code",
   "execution_count": null,
   "metadata": {
    "id": "X9DkgZ-Cg_Jl"
   },
   "outputs": [],
   "source": [
    "# let us now do a 2D projection of two of the classes\n",
    "\n",
    "# find the indices for the images that contain a 0 or a 1\n",
    "condition = (digits['target']==0) | (digits['target']==1)\n",
    "\n",
    "# project to 2D using principal component analysis\n",
    "pca = PCA(n_components=2)\n",
    "proj = pca.fit_transform(digits.data[condition])\n",
    "plt.figure(figsize = (3,3))\n",
    "plot_clustering(proj)"
   ]
  },
  {
   "cell_type": "markdown",
   "metadata": {},
   "source": [
    "We use k-means to find a clustering of the projected data (https://en.wikipedia.org/wiki/K-means_clustering). The k-means algorithm asks us to choose the number of clusters before hand. In this case, since we are clustering 2D data, it is possible to visualy estimate that there are 2 clusters."
   ]
  },
  {
   "cell_type": "code",
   "execution_count": null,
   "metadata": {},
   "outputs": [],
   "source": [
    "from sklearn.cluster import KMeans\n",
    "\n",
    "target_number_of_clusters = 2\n",
    "kmeans = KMeans(n_clusters=target_number_of_clusters, n_init=10)\n",
    "clustering = kmeans.fit_predict(proj)\n",
    "\n",
    "plt.figure(figsize = (3,3))\n",
    "plot_clustering(proj, clustering)"
   ]
  },
  {
   "cell_type": "markdown",
   "metadata": {},
   "source": [
    "**Questions:**\n",
    "1. Does the result (i.e., the predicted clusters) change if you run kmeans several times? Why/Why not.\n",
    "1. Does the result change if you do the clustering in $\\mathbb{R}^{64}$ with the original data, instead of the 2D PCA projection? Why/why not?\n",
    "1. If you change the number of target clusters from 2 to 3, does the result make sense? Is this still true in $\\mathbb{R}^{64}$?"
   ]
  },
  {
   "cell_type": "markdown",
   "metadata": {},
   "source": [
    "**Your Anwers:**\n",
    "1. \n",
    " "
   ]
  },
  {
   "cell_type": "code",
   "execution_count": null,
   "metadata": {},
   "outputs": [],
   "source": [
    "# Your code here\n",
    "\n",
    "\n"
   ]
  },
  {
   "cell_type": "markdown",
   "metadata": {},
   "source": [
    "---"
   ]
  },
  {
   "cell_type": "markdown",
   "metadata": {},
   "source": [
    "There seems to be a fair amount of structure in the plot above. For instance, there seem to be two distinct clusters, one with significantly fewer points. The larger cluster seems also to have nontrivial structure. Let's now plot some of the digits on top of their corresponding point in the 2D embedding, to try to understand what the 2 principal components are capturing\n"
   ]
  },
  {
   "cell_type": "code",
   "execution_count": null,
   "metadata": {
    "id": "aO_5TN6Dhrud"
   },
   "outputs": [],
   "source": [
    "# plotting all the images would be too much, so let us just plot 100\n",
    "subsample = np.random.choice(sum(condition), 100)\n",
    "\n",
    "from matplotlib.offsetbox import OffsetImage, AnnotationBbox\n",
    "\n",
    "fig, ax = plt.subplots(figsize=(10,10))\n",
    "ax.scatter(proj[subsample,0], proj[subsample,1]) \n",
    "\n",
    "for x0, y0, im in zip(proj[subsample,0], proj[subsample,1],digits[\"images\"][condition][subsample]):\n",
    "    ab = AnnotationBbox(OffsetImage(im, cmap='binary',zoom=2), (x0, y0))\n",
    "    ax.add_artist(ab)"
   ]
  },
  {
   "cell_type": "markdown",
   "metadata": {},
   "source": [
    "**Question:** How many clusters should there be? If you had to verbally explain who the clusters are, what would you say?"
   ]
  },
  {
   "cell_type": "markdown",
   "metadata": {},
   "source": [
    "**Your Answer:**"
   ]
  },
  {
   "cell_type": "markdown",
   "metadata": {},
   "source": [
    "---"
   ]
  },
  {
   "cell_type": "markdown",
   "metadata": {},
   "source": [
    "### 4. Density-based clustering\n",
    "\n",
    "We will now explore another example of clustering, this time from an application to astrophysics. The first pass will be only for the regions of the data where density is large (this was the goal of the paper), and you will then be able to run k-means as an excercise.\n",
    "\n",
    "The data comes from the paper *X-Ray Star Clusters in the Carina Complex* by Feigelson et al., 2011 (https://iopscience.iop.org/article/10.1088/0067-0049/194/1/9). The cell below downloads and processes the data.\n",
    "\n",
    "**Do:** Please read and run the cell below"
   ]
  },
  {
   "cell_type": "code",
   "execution_count": null,
   "metadata": {},
   "outputs": [],
   "source": [
    "# download table3 from https://cdsarc.cds.unistra.fr/ftp/J/ApJS/194/9/\n",
    "# this contains the main dataset of the paper\n",
    "# \"X-RAY STAR CLUSTERS IN THE CARINA COMPLEX\" Feigelson et al.\n",
    "\n",
    "import requests\n",
    "url = \"https://cdsarc.cds.unistra.fr/ftp/J/ApJS/194/9/table3.dat\"\n",
    "response = requests.get(url)\n",
    "data = response.text\n",
    "\n",
    "# we now preprocess the data we downloaded. We will consider the subsample\n",
    "# referred to as the \"spatially complete sample\" in section 2 of the paper.\n",
    "# See https://cdsarc.cds.unistra.fr/ftp/J/ApJS/194/9/ReadMe for a description\n",
    "# of the dataset\n",
    "unfiltered_dataset = []\n",
    "large_scale_region = []\n",
    "class_broos = []\n",
    "cluster_feigelson = []\n",
    "photon_flux = []\n",
    "for line in data.split('\\n'):\n",
    "    row = line.split()\n",
    "    if len(row) > 0:\n",
    "        # these are the two spatial coordinates of the data points\n",
    "        unfiltered_dataset.append(row[3:5])\n",
    "        # this quantifies how bright the source is\n",
    "        photon_flux.append(row[6])\n",
    "        # the following contains the label H2 for points that\n",
    "        # are deemed to probably belong to the Carina complex\n",
    "        class_broos.append(row[8])\n",
    "        # this contains the cluster label as reported in the paper\n",
    "        if len(row) == 11 and row[9][0] == \"C\":\n",
    "            cluster_feigelson.append(int(row[9][1:]))\n",
    "        else:\n",
    "            cluster_feigelson.append(-1)\n",
    "            \n",
    "unfiltered_dataset = np.array(unfiltered_dataset, dtype=float)\n",
    "cluster_feigelson = np.array(cluster_feigelson, dtype=int)\n",
    "class_broos = np.array(class_broos, dtype=str)\n",
    "photon_flux = np.array(photon_flux, dtype=float)\n",
    "\n",
    "# photon threshold as in the paper\n",
    "photon_flux_threshold = -5.9\n",
    "bright_enough = (photon_flux > photon_flux_threshold)\n",
    "\n",
    "# probable Carina members\n",
    "probable_carina_members = (class_broos == \"H2\")\n",
    "\n",
    "# we put the two conditions together\n",
    "condition = bright_enough & probable_carina_members\n",
    "\n",
    "# we filter the point cloud and the cluster labels using\n",
    "# the two conditions above. So we are only looking for bright sources that\n",
    "# are considered to probably belong to the Carina complex\n",
    "X = unfiltered_dataset[condition]\n",
    "cluster = cluster_feigelson[condition]\n",
    "\n",
    "# print the size of the filtered data.\n",
    "# NOTE: we are getting 2870 samples instead of the 3220 samples reported in\n",
    "# section 2 of the paper. I do not know why this is. If you are interested,\n",
    "# please look into it!\n",
    "X.shape"
   ]
  },
  {
   "cell_type": "markdown",
   "metadata": {},
   "source": [
    "Next we plot the data \n",
    "\n",
    "**Do:** Please run the cell below."
   ]
  },
  {
   "cell_type": "code",
   "execution_count": null,
   "metadata": {},
   "outputs": [],
   "source": [
    "plt.figure(figsize=(5,7))\n",
    "plot_clustering(X , sizes = [1, 1])"
   ]
  },
  {
   "cell_type": "markdown",
   "metadata": {},
   "source": [
    "The goal is to find clusters of stars, but only for regions where there is a high density of stars. The cell below plots the clusters reported in the paper. Note that many of the data point are unclustered (the ones in grey). This is because they are not in a sufficiently dense region of the data.\n",
    "\n",
    "**Do:** Please run the cell below."
   ]
  },
  {
   "cell_type": "code",
   "execution_count": null,
   "metadata": {},
   "outputs": [],
   "source": [
    "# Plot the clustering reported in the paper.\n",
    "plt.figure(figsize=(5,7))\n",
    "plot_clustering(X, cluster, sizes=[1,.5])"
   ]
  },
  {
   "cell_type": "markdown",
   "metadata": {},
   "source": [
    "---\n",
    "\n",
    "### 5. Exercise: try to cluster the dataset above using k-means\n",
    "\n",
    "**Do:** In the cells below, try running k-means on the stars data. See if you can recover reasonable clusters  for (all or part of) the data. "
   ]
  },
  {
   "cell_type": "code",
   "execution_count": null,
   "metadata": {},
   "outputs": [],
   "source": []
  },
  {
   "cell_type": "code",
   "execution_count": null,
   "metadata": {},
   "outputs": [],
   "source": []
  }
 ],
 "metadata": {
  "colab": {
   "collapsed_sections": [],
   "name": "Notebook-0.ipynb",
   "provenance": [],
   "toc_visible": true
  },
  "kernelspec": {
   "display_name": "Python 3 (ipykernel)",
   "language": "python",
   "name": "python3"
  },
  "language_info": {
   "codemirror_mode": {
    "name": "ipython",
    "version": 3
   },
   "file_extension": ".py",
   "mimetype": "text/x-python",
   "name": "python",
   "nbconvert_exporter": "python",
   "pygments_lexer": "ipython3",
   "version": "3.9.16"
  },
  "vscode": {
   "interpreter": {
    "hash": "aedd5e66c633617a2b6367c11c0534f47dbb53f58d311e2fdabbf5bcacebad6a"
   }
  }
 },
 "nbformat": 4,
 "nbformat_minor": 1
}
